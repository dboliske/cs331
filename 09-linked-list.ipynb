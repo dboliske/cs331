{
 "cells": [
  {
   "cell_type": "markdown",
   "metadata": {
    "state": "normal"
   },
   "source": [
    "# Linked Lists\n",
    "\n",
    "## Agenda\n",
    "\n",
    "1. The `LinkedList` and `Node` classes  \n",
    "2. Implementing `append`\n",
    "3. Implementing deletion\n",
    "4. Bidirectional links (Doubly-linked list) & Sentinel head\n",
    "5. Incorporating a \"cursor\"\n",
    "6. Search?\n",
    "7. Run-time analysis"
   ]
  },
  {
   "cell_type": "markdown",
   "metadata": {
    "state": "normal"
   },
   "source": [
    "## 1. The `LinkedList` and `Node` classes"
   ]
  },
  {
   "cell_type": "code",
   "execution_count": 1,
   "metadata": {
    "state": "normal"
   },
   "outputs": [],
   "source": [
    "class LinkedList:\n",
    "    class Node:\n",
    "        def __init__(self, val, next=None):\n",
    "            self.val = val\n",
    "            self.next = next\n",
    "    \n",
    "    def __init__(self):\n",
    "        self.head = None\n",
    "        self.size = 0\n",
    "    \n",
    "    def prepend(self, value): # O(1)\n",
    "        self.head = LinkedList.Node(value, self.head)\n",
    "        self.size += 1\n",
    "    \n",
    "    def __len__(self):\n",
    "        return self.size\n",
    "        \n",
    "    def __iter__(self):\n",
    "        n = self.head\n",
    "        while n:\n",
    "            yield n.val\n",
    "            n = n.next\n",
    "    \n",
    "    def __repr__(self):\n",
    "        return '[' + ', '.join(repr(x) for x in self) + ']'"
   ]
  },
  {
   "cell_type": "code",
   "execution_count": 2,
   "metadata": {
    "state": "normal"
   },
   "outputs": [
    {
     "data": {
      "text/plain": [
       "[9, 8, 7, 6, 5, 4, 3, 2, 1, 0]"
      ]
     },
     "execution_count": 2,
     "metadata": {},
     "output_type": "execute_result"
    }
   ],
   "source": [
    "lst = LinkedList()\n",
    "for i in range(10):\n",
    "    lst.prepend(i)\n",
    "lst"
   ]
  },
  {
   "cell_type": "markdown",
   "metadata": {
    "state": "normal"
   },
   "source": [
    "## 2. Implementing `append`"
   ]
  },
  {
   "cell_type": "markdown",
   "metadata": {
    "state": "normal"
   },
   "source": [
    "### Option 1"
   ]
  },
  {
   "cell_type": "code",
   "execution_count": 3,
   "metadata": {
    "state": "normal"
   },
   "outputs": [],
   "source": [
    "class LinkedList (LinkedList): # note: using inheritance to extend prior definition\n",
    "    def append(self, value): # O(N) <--- this is bad\n",
    "        if self.head:\n",
    "            # step 1: find the end (last node)\n",
    "            n = self.head\n",
    "            while n.next: # walking the full list (O(N))\n",
    "                n = n.next\n",
    "            # step 2: make last node point to new node\n",
    "            n.next = LinkedList.Node(value)\n",
    "            self.size += 1\n",
    "        else:\n",
    "            self.prepend(value)"
   ]
  },
  {
   "cell_type": "code",
   "execution_count": 4,
   "metadata": {
    "state": "normal"
   },
   "outputs": [
    {
     "data": {
      "text/plain": [
       "[0, 1, 2, 3, 4, 5, 6, 7, 8, 9]"
      ]
     },
     "execution_count": 4,
     "metadata": {},
     "output_type": "execute_result"
    }
   ],
   "source": [
    "lst = LinkedList()\n",
    "for i in range(10):\n",
    "    lst.append(i)\n",
    "lst"
   ]
  },
  {
   "cell_type": "markdown",
   "metadata": {
    "state": "normal"
   },
   "source": [
    "### Option 2"
   ]
  },
  {
   "cell_type": "code",
   "execution_count": 7,
   "metadata": {
    "state": "normal"
   },
   "outputs": [],
   "source": [
    "class LinkedList (LinkedList):\n",
    "    def __init__(self):\n",
    "        self.head = self.tail = None\n",
    "        self.size = 0\n",
    "        \n",
    "    def prepend(self, value): # O(1)\n",
    "        self.head = LinkedList.Node(value, next = self.head)\n",
    "\n",
    "        if self.tail is None:\n",
    "            self.tail = self.head\n",
    "\n",
    "        self.size += 1\n",
    "        \n",
    "    def append(self, value): # O(1)\n",
    "        if self.tail:\n",
    "            self.tail.next = self.tail = LinkedList.Node(value)\n",
    "            self.size += 1\n",
    "        else:\n",
    "            self.prepend(value)"
   ]
  },
  {
   "cell_type": "code",
   "execution_count": 8,
   "metadata": {
    "state": "normal"
   },
   "outputs": [
    {
     "data": {
      "text/plain": [
       "[0, 1, 2, 3, 4, 5, 6, 7, 8, 9]"
      ]
     },
     "execution_count": 8,
     "metadata": {},
     "output_type": "execute_result"
    }
   ],
   "source": [
    "lst = LinkedList()\n",
    "for i in range(10):\n",
    "    lst.append(i)\n",
    "lst"
   ]
  },
  {
   "cell_type": "markdown",
   "metadata": {
    "state": "normal"
   },
   "source": [
    "## 3. Implementing deletion"
   ]
  },
  {
   "cell_type": "markdown",
   "metadata": {
    "state": "normal"
   },
   "source": [
    "### Deleting the head"
   ]
  },
  {
   "cell_type": "code",
   "execution_count": 9,
   "metadata": {
    "state": "normal"
   },
   "outputs": [],
   "source": [
    "class LinkedList (LinkedList):\n",
    "    def del_head(self): # O(1)\n",
    "        assert len(self) > 0\n",
    "        self.head = self.head.next\n",
    "        self.size -= 1"
   ]
  },
  {
   "cell_type": "code",
   "execution_count": 10,
   "metadata": {
    "state": "normal"
   },
   "outputs": [
    {
     "data": {
      "text/plain": [
       "[2, 3, 4, 5, 6, 7, 8, 9]"
      ]
     },
     "execution_count": 10,
     "metadata": {},
     "output_type": "execute_result"
    }
   ],
   "source": [
    "lst = LinkedList()\n",
    "for i in range(10):\n",
    "    lst.append(i)\n",
    "lst.del_head()\n",
    "lst.del_head()\n",
    "lst"
   ]
  },
  {
   "cell_type": "markdown",
   "metadata": {
    "state": "normal"
   },
   "source": [
    "### Deleting the tail"
   ]
  },
  {
   "cell_type": "code",
   "execution_count": 11,
   "metadata": {
    "state": "normal"
   },
   "outputs": [],
   "source": [
    "class LinkedList (LinkedList):\n",
    "    def del_tail(self): # O(N)\n",
    "        assert len(self) > 0\n",
    "        if self.head.next is None:\n",
    "            # only one value\n",
    "            self.head = self.tail = None\n",
    "        else:\n",
    "            # at least 2 values\n",
    "\n",
    "            # step 1: find node just before tail\n",
    "            n = self.head\n",
    "            while n.next.next: # O(N)\n",
    "                n = n.next\n",
    "            # step 2: remove last node and update tail\n",
    "            n.next = None\n",
    "            self.tail = n\n",
    "        self.size -= 1"
   ]
  },
  {
   "cell_type": "code",
   "execution_count": 12,
   "metadata": {
    "state": "normal"
   },
   "outputs": [
    {
     "data": {
      "text/plain": [
       "[0, 1, 2, 3, 4, 5, 6, 7]"
      ]
     },
     "execution_count": 12,
     "metadata": {},
     "output_type": "execute_result"
    }
   ],
   "source": [
    "lst = LinkedList()\n",
    "for i in range(10):\n",
    "    lst.append(i)\n",
    "lst.del_tail()\n",
    "lst.del_tail()\n",
    "lst"
   ]
  },
  {
   "cell_type": "markdown",
   "metadata": {
    "state": "normal"
   },
   "source": [
    "## 4. Bidirectional links (Doubly-linked list) & Sentinel head"
   ]
  },
  {
   "cell_type": "code",
   "execution_count": 13,
   "metadata": {
    "state": "normal"
   },
   "outputs": [],
   "source": [
    "class LinkedList:\n",
    "    class Node:\n",
    "        def __init__(self, val, prior=None, next=None):\n",
    "            self.val = val\n",
    "            self.prior = prior\n",
    "            self.next  = next\n",
    "    \n",
    "    def __init__(self):\n",
    "        self.size = 0\n",
    "        self.head = LinkedList.Node(None) # sentinel node - not an actual element\n",
    "        self.head.prior = self.head.next = self.head\n",
    "        \n",
    "    def prepend(self, value): # O(1)\n",
    "        self.size += 1\n",
    "        n = LinkedList.Node(value, prior=self.head, next=self.head.next)\n",
    "        self.head.next.prior = n\n",
    "        self.head.next = n\n",
    "        \n",
    "    def append(self, value): # O(1)\n",
    "        self.size += 1\n",
    "        n = LinkedList.Node(value, prior = self.head.prior, next=self.head)\n",
    "        self.head.prior.next = n\n",
    "        self.head.prior = n\n",
    "        \n",
    "    def __getitem__(self, idx): # O(N)\n",
    "        assert idx >= 0 and idx < len(self)\n",
    "        n = self.head.next\n",
    "        for _ in range(idx):\n",
    "            n = n.next\n",
    "        return n.val\n",
    "        \n",
    "    def __len__(self):\n",
    "        return self.size\n",
    "        \n",
    "    def __iter__(self):\n",
    "        n = self.head.next\n",
    "        while n is not self.head:\n",
    "            yield n.val\n",
    "            n = n.next\n",
    "    \n",
    "    def __repr__(self):\n",
    "        return '[' + ', '.join(str(x) for x in self) + ']'"
   ]
  },
  {
   "cell_type": "code",
   "execution_count": 14,
   "metadata": {
    "state": "normal"
   },
   "outputs": [
    {
     "data": {
      "text/plain": [
       "[9, 8, 7, 6, 5, 4, 3, 2, 1, 0, 0, 1, 2, 3, 4, 5, 6, 7, 8, 9]"
      ]
     },
     "execution_count": 14,
     "metadata": {},
     "output_type": "execute_result"
    }
   ],
   "source": [
    "lst = LinkedList()\n",
    "for i in range(10):\n",
    "    lst.prepend(i)\n",
    "for i in range(10):\n",
    "    lst.append(i)\n",
    "lst"
   ]
  },
  {
   "cell_type": "markdown",
   "metadata": {
    "state": "normal"
   },
   "source": [
    "## 5. Incorporating a \"cursor\""
   ]
  },
  {
   "cell_type": "code",
   "execution_count": 15,
   "metadata": {
    "state": "normal"
   },
   "outputs": [],
   "source": [
    "class LinkedList:\n",
    "    class Node:\n",
    "        def __init__(self, val, prior=None, next=None):\n",
    "            self.val = val\n",
    "            self.prior = prior\n",
    "            self.next  = next\n",
    "    \n",
    "    def __init__(self):\n",
    "        self.head = self.cursor = LinkedList.Node(None)\n",
    "        self.head.prior = self.head.next = self.head\n",
    "        self.size = 0\n",
    "                \n",
    "    def append(self, value):\n",
    "        n = LinkedList.Node(value, prior=self.head.prior, next=self.head)\n",
    "        n.prior.next = n.next.prior = n\n",
    "        self.size += 1\n",
    "\n",
    "    def __getitem__(self, idx):\n",
    "        assert idx >= 0 and idx < len(self)\n",
    "        n = self.head.next\n",
    "        for _ in range(idx):\n",
    "            n = n.next\n",
    "        return n.val\n",
    "        \n",
    "    def cursor_set(self, idx):\n",
    "        assert idx >= 0 and idx < len(self)\n",
    "        self.cursor = self.head.next\n",
    "        for _ in range(idx):\n",
    "            self.cursor = self.cursor.next\n",
    "    \n",
    "    def cursor_insert(self, value): # O(1)\n",
    "        assert self.cursor is not self.head\n",
    "        n = LinkedList.Node(value, prior=self.cursor.prior, next=self.cursor)\n",
    "        n.prior.next = n.next.prior = n\n",
    "        self.size += 1\n",
    "    \n",
    "    def cursor_delete(self): # O(1)\n",
    "        assert self.cursor is not self.head\n",
    "        n = self.cursor\n",
    "        self.cursor = self.cursor.next\n",
    "        n.prior.next = n.next\n",
    "        n.next.prior = n.prior\n",
    "        self.size -= 1\n",
    "        \n",
    "    def __len__(self):\n",
    "        return self.size\n",
    "        \n",
    "    def __iter__(self):\n",
    "        n = self.head.next\n",
    "        while n is not self.head:\n",
    "            yield n.val\n",
    "            n = n.next\n",
    "    \n",
    "    def __repr__(self):\n",
    "        return '[' + ', '.join(str(x) for x in self) + ']'"
   ]
  },
  {
   "cell_type": "code",
   "execution_count": 16,
   "metadata": {
    "state": "normal"
   },
   "outputs": [
    {
     "data": {
      "text/plain": [
       "[0, 1, 2, 3, 4, 5, 6, 7, 8, 9]"
      ]
     },
     "execution_count": 16,
     "metadata": {},
     "output_type": "execute_result"
    }
   ],
   "source": [
    "lst = LinkedList()\n",
    "for i in range(10):\n",
    "    lst.append(i)\n",
    "lst"
   ]
  },
  {
   "cell_type": "code",
   "execution_count": 17,
   "metadata": {
    "state": "normal"
   },
   "outputs": [
    {
     "data": {
      "text/plain": [
       "[0, 1, 2, 3, a, b, c, d, 4, 5, 6, 7, 8, 9]"
      ]
     },
     "execution_count": 17,
     "metadata": {},
     "output_type": "execute_result"
    }
   ],
   "source": [
    "lst.cursor_set(4)\n",
    "for x in 'abcd':\n",
    "    lst.cursor_insert(x)\n",
    "lst"
   ]
  },
  {
   "cell_type": "code",
   "execution_count": 18,
   "metadata": {
    "state": "normal"
   },
   "outputs": [
    {
     "data": {
      "text/plain": [
       "[0, 1, 2, 3, a, b, c, d, 8, 9]"
      ]
     },
     "execution_count": 18,
     "metadata": {},
     "output_type": "execute_result"
    }
   ],
   "source": [
    "lst.cursor_set(8)\n",
    "for _ in range(4):\n",
    "    lst.cursor_delete()\n",
    "lst"
   ]
  },
  {
   "cell_type": "markdown",
   "metadata": {},
   "source": [
    "## 6. Search?"
   ]
  },
  {
   "cell_type": "markdown",
   "metadata": {},
   "source": [
    "Linear search with $O(N)$ is the only option when the list is unsorted, but we previously implemented binary search, which runs in $O(\\log N)$ time given a sorted list as input.\n",
    "\n",
    "Does this extend to linked lists?"
   ]
  },
  {
   "cell_type": "code",
   "execution_count": 19,
   "metadata": {},
   "outputs": [],
   "source": [
    "def contains(lst, x):\n",
    "    lo = 0\n",
    "    hi = len(lst)-1\n",
    "    while lo <= hi: \n",
    "        mid = (lo + hi) // 2\n",
    "        if x < lst[mid]:\n",
    "            hi = mid - 1\n",
    "        elif x > lst[mid]:\n",
    "            lo = mid + 1\n",
    "        else:\n",
    "            return True\n",
    "    else:\n",
    "        return False"
   ]
  },
  {
   "cell_type": "code",
   "execution_count": 20,
   "metadata": {},
   "outputs": [
    {
     "data": {
      "image/png": "[encoded data removed]",
      "text/plain": [
       "<Figure size 432x288 with 1 Axes>"
      ]
     },
     "metadata": {
      "needs_background": "light"
     },
     "output_type": "display_data"
    }
   ],
   "source": [
    "import timeit\n",
    "import matplotlib.pyplot as plt\n",
    "import numpy as np\n",
    "\n",
    "# runtimes when searching for different values in a fixed-size list\n",
    "\n",
    "def build_sorted_llist(n):\n",
    "    lst = LinkedList()\n",
    "    for x in range(n):\n",
    "        lst.append(x)\n",
    "    return lst\n",
    "    \n",
    "ts = [timeit.timeit(stmt=f'contains(lst, {x})', \n",
    "                    setup='lst = build_sorted_llist(100)',\n",
    "                    globals=globals(), \n",
    "                    number=100)\n",
    "      for x in range(100)]\n",
    "\n",
    "plt.plot(range(100), ts, 'or');"
   ]
  },
  {
   "cell_type": "code",
   "execution_count": 21,
   "metadata": {},
   "outputs": [
    {
     "data": {
      "image/png": "[encoded data removed]",
      "text/plain": [
       "<Figure size 432x288 with 1 Axes>"
      ]
     },
     "metadata": {
      "needs_background": "light"
     },
     "output_type": "display_data"
    }
   ],
   "source": [
    "# runtimes when searching for an edge-value in lists of increasing size\n",
    "\n",
    "ns = np.linspace(10, 1000, 50, dtype=int)\n",
    "ts = [timeit.timeit('contains(lst, 0)', \n",
    "                    setup=f'lst=build_sorted_llist({n})',\n",
    "                    globals=globals(),\n",
    "                    number=1000)\n",
    "      for n in ns]\n",
    "\n",
    "plt.plot(ns, ts, 'or');"
   ]
  },
  {
   "cell_type": "markdown",
   "metadata": {
    "state": "normal"
   },
   "source": [
    "## 7. Run-time analysis"
   ]
  },
  {
   "cell_type": "markdown",
   "metadata": {
    "state": "normal"
   },
   "source": [
    "Run-time complexities for circular, doubly-linked list of $N$ elements:\n",
    "\n",
    "- indexing (position-based access) = $O(N)$\n",
    "- search (unsorted) = $O(N)$\n",
    "- search (sorted) = $O(N)$ --- binary search isn't possible!\n",
    "- prepend = $O(1)$\n",
    "- append = $O(1)$\n",
    "- insertion at arbitrary position: indexing = $O(N)$ + insertion = $O(1)$\n",
    "- deletion of arbitrary element: indexing = $O(N)$ + deletion = $O(1)$"
   ]
  }
 ],
 "metadata": {
  "kernelspec": {
   "display_name": "Python 3",
   "language": "python",
   "name": "python3"
  },
  "language_info": {
   "codemirror_mode": {
    "name": "ipython",
    "version": 3
   },
   "file_extension": ".py",
   "mimetype": "text/x-python",
   "name": "python",
   "nbconvert_exporter": "python",
   "pygments_lexer": "ipython3",
   "version": "3.8.10"
  },
  "mimir": {
   "data": {},
   "last_submission_id": "",
   "project_id": "41bee725-65ca-4c92-94b2-996780a0138c"
  },
  "varInspector": {
   "cols": {
    "lenName": 16,
    "lenType": 16,
    "lenVar": 40
   },
   "kernels_config": {
    "python": {
     "delete_cmd_postfix": "",
     "delete_cmd_prefix": "del ",
     "library": "var_list.py",
     "varRefreshCmd": "print(var_dic_list())"
    },
    "r": {
     "delete_cmd_postfix": ") ",
     "delete_cmd_prefix": "rm(",
     "library": "var_list.r",
     "varRefreshCmd": "cat(var_dic_list()) "
    }
   },
   "types_to_exclude": [
    "module",
    "function",
    "builtin_function_or_method",
    "instance",
    "_Feature"
   ],
   "window_display": false
  }
 },
 "nbformat": 4,
 "nbformat_minor": 4
}
