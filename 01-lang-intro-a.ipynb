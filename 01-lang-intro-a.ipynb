{
 "cells": [
  {
   "cell_type": "markdown",
   "metadata": {},
   "source": [
    "# Python Language Intro (Part 1)\n",
    "\n",
    "## Agenda\n",
    "\n",
    "1. Language Overview\n",
    "2. Write Space Sensitivity\n",
    "3. Basic Types and Operations\n",
    "4. Statements and Control Structures\n",
    "5. Functions\n",
    "6. OOP (Classes, Methods, etc.)\n",
    "7. Immutable Sequence Types (Strings, Ranges, Tuples)\n",
    "8. Mutable data structures: Lists, Sets, Dictionaries"
   ]
  },
  {
   "cell_type": "markdown",
   "metadata": {},
   "source": [
    "## 1. Language Overview\n",
    "\n",
    "Note: This is _not_ a language course! Though I'll cover the important bits of the language (and standard library) that are relevant to class material, but I expect you to master the language in your own time.\n",
    "\n",
    "Python...\n",
    "\n",
    "* is _interpreted_\n",
    "* is _dynamically-typed_ (vs. statically typed)\n",
    "* is _automatically memory-managed_\n",
    "* supports _procedural_, _object-oriented_, _imperative_ and _functional_ programming paradigms\n",
    "* is designed (mostly) by one man: Guido van Rossum (aka \"benevolent dictator\"), and therefore has a fairly _opinionated_ design\n",
    "* has a single reference implementation (CPython)\n",
    "* version 3 (the most recent version) is _not backwards-compatible_ with version 2, though the latter is still widely used\n",
    "* has an interesting programming philosophy: \"There should be one -- and preferably only one -- obvious way to do it.\" (a.k.a. the \"Pythonic\" way) -- see The Zen of Python"
   ]
  },
  {
   "cell_type": "markdown",
   "metadata": {},
   "source": [
    "## 2. White Space Sensitivity\n",
    "\n",
    "Python has no beginning/end block markers! Blocks must be correctly indented (4 spaces is the convention) to delineate them."
   ]
  },
  {
   "cell_type": "code",
   "execution_count": null,
   "metadata": {},
   "outputs": [],
   "source": [
    "if True:\n",
    "    print('In if-clause')\n",
    "else:\n",
    "    print('In else-clause')"
   ]
  },
  {
   "cell_type": "code",
   "execution_count": null,
   "metadata": {},
   "outputs": [],
   "source": [
    "for x in range(5):\n",
    "    print('In for loop body')"
   ]
  },
  {
   "cell_type": "code",
   "execution_count": null,
   "metadata": {},
   "outputs": [],
   "source": [
    "def foo():\n",
    "    print('In function definition')"
   ]
  },
  {
   "cell_type": "markdown",
   "metadata": {},
   "source": [
    "## 3. Basic Types and Operations\n",
    "\n",
    "In Python, variables do not have types. _Values_ have types (though they are not explicitly declared). A variable can be assigned different types of values over its lifetime."
   ]
  },
  {
   "cell_type": "code",
   "execution_count": null,
   "metadata": {},
   "outputs": [],
   "source": [
    "a = 2 # starts out as an integer\n",
    "print(type(a)) # the `type` function tells us the type of a value\n",
    "\n",
    "a = 1.5\n",
    "print(type(a))\n",
    "\n",
    "a = 'hello'\n",
    "print(type(a))"
   ]
  },
  {
   "cell_type": "markdown",
   "metadata": {},
   "source": [
    "Note that all the types reported are _classes_, i.e. even types we are accustomed to thinking of as \"primitives\" (e.g. integers in Java) are actually instances of classes. __All values in Python are objects!__\n",
    "\n",
    "There is no dichotomy between \"primitive\" and \"reference\" types in Python. __All variables in Python store references to objects.__\n",
    "\n",
    "### Numbers"
   ]
  },
  {
   "cell_type": "code",
   "execution_count": null,
   "metadata": {},
   "outputs": [],
   "source": [
    "# int: integers, unlimited precision\n",
    "(\n",
    "    1,\n",
    "    500,\n",
    "    -123456789,\n",
    "    6598293784982739874982734\n",
    ")"
   ]
  },
  {
   "cell_type": "code",
   "execution_count": null,
   "metadata": {},
   "outputs": [],
   "source": [
    "# basic operations\n",
    "(\n",
    "    1 + 2,\n",
    "    1 - 2,\n",
    "    2 * 3,\n",
    "    2 * 3 + 2 * 4,\n",
    "    2 / 5,\n",
    "    2 ** 3, # exponentiation\n",
    "    abs(-25)\n",
    ")"
   ]
  },
  {
   "cell_type": "code",
   "execution_count": null,
   "metadata": {},
   "outputs": [],
   "source": [
    "# modulus (remainder) and integer division\n",
    "(\n",
    "    10 % 3,\n",
    "    10 // 3\n",
    ")"
   ]
  },
  {
   "cell_type": "code",
   "execution_count": null,
   "metadata": {},
   "outputs": [],
   "source": [
    "# floating point is based on the IEEE double-precision standard (limit to precision!)\n",
    "(\n",
    "    2.5,\n",
    "    -3.14159265358924352345,\n",
    "    1.000000000000000000000001\n",
    ")"
   ]
  },
  {
   "cell_type": "code",
   "execution_count": null,
   "metadata": {},
   "outputs": [],
   "source": [
    "# mixed arithmetic \"widens\" ints to floats\n",
    "(\n",
    "    3 * 2.5,\n",
    "    1 / 0.3\n",
    ")"
   ]
  }
 ],
 "metadata": {
  "language_info": {
   "name": "plaintext"
  },
  "orig_nbformat": 4
 },
 "nbformat": 4,
 "nbformat_minor": 2
}
