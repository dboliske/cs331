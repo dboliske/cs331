{
 "cells": [
  {
   "cell_type": "markdown",
   "metadata": {
    "state": "normal"
   },
   "source": [
    "# Timing and Plotting"
   ]
  },
  {
   "cell_type": "markdown",
   "metadata": {
    "state": "normal"
   },
   "source": [
    "## Agenda\n",
    "\n",
    "1. Timing\n",
    "2. Building a timing utility\n",
    "3. The `timeit` module\n",
    "4. Drawing plots with `matplotlib`\n",
    "5. Timing plots\n",
    "6. Timing examples\n",
    "    - list indexing\n",
    "    - linear search\n",
    "    - binary search\n",
    "    - insertion sort\n",
    "    - collatz conjecture\n",
    "7. Takeaways"
   ]
  },
  {
   "cell_type": "markdown",
   "metadata": {
    "state": "normal"
   },
   "source": [
    "## 1. Timing"
   ]
  },
  {
   "cell_type": "markdown",
   "metadata": {
    "state": "normal"
   },
   "source": [
    "The [`time`](https://docs.python.org/3/library/time.html#module-time) module contains functions for obtaining and interpreting the current system time."
   ]
  },
  {
   "cell_type": "code",
   "execution_count": null,
   "metadata": {
    "state": "normal"
   },
   "outputs": [],
   "source": [
    "import time\n",
    "time.time()"
   ]
  },
  {
   "cell_type": "code",
   "execution_count": null,
   "metadata": {
    "state": "normal"
   },
   "outputs": [],
   "source": [
    "time.localtime(time.time())"
   ]
  },
  {
   "cell_type": "markdown",
   "metadata": {
    "state": "normal"
   },
   "source": [
    "By taking start and stop \"timestamps\", we can measure the runtime of code:"
   ]
  },
  {
   "cell_type": "code",
   "execution_count": null,
   "metadata": {
    "state": "normal"
   },
   "outputs": [],
   "source": [
    "time.sleep(0.5)"
   ]
  },
  {
   "cell_type": "markdown",
   "metadata": {
    "state": "normal"
   },
   "source": [
    "## 2. Building a timing utility\n",
    "\n",
    "We can build a utility function for timing the execution of a passed-in function:"
   ]
  },
  {
   "cell_type": "code",
   "execution_count": null,
   "metadata": {
    "state": "normal"
   },
   "outputs": [],
   "source": [
    "def timeit(fn):\n",
    "    pass"
   ]
  },
  {
   "cell_type": "code",
   "execution_count": null,
   "metadata": {
    "state": "normal"
   },
   "outputs": [],
   "source": [
    "sum(range(10_000))"
   ]
  },
  {
   "cell_type": "code",
   "execution_count": null,
   "metadata": {
    "state": "normal"
   },
   "outputs": [],
   "source": [
    "timeit(?)"
   ]
  },
  {
   "cell_type": "markdown",
   "metadata": {},
   "source": [
    "While using a lambda is one possible approach, it limits us to passing in a function that must be called a certain way (e.g., with no arguments). We can make use of the `eval` function to evaluate an arbitrary string of Python code instead."
   ]
  },
  {
   "cell_type": "code",
   "execution_count": null,
   "metadata": {},
   "outputs": [],
   "source": [
    "eval('1 + 2')"
   ]
  },
  {
   "cell_type": "code",
   "execution_count": null,
   "metadata": {},
   "outputs": [],
   "source": [
    "eval('sum(range(10_000))')"
   ]
  },
  {
   "cell_type": "code",
   "execution_count": null,
   "metadata": {},
   "outputs": [],
   "source": [
    "def timeit(stmt='pass'):\n",
    "    pass"
   ]
  },
  {
   "cell_type": "code",
   "execution_count": null,
   "metadata": {},
   "outputs": [],
   "source": [
    "timeit('sum(range(10_000))')"
   ]
  },
  {
   "cell_type": "markdown",
   "metadata": {
    "state": "normal"
   },
   "source": [
    "To make timings more stable, we can run the passed-in function multiple times:"
   ]
  },
  {
   "cell_type": "code",
   "execution_count": null,
   "metadata": {
    "state": "normal"
   },
   "outputs": [],
   "source": [
    "def timeit(stmt='pass', number=1):\n",
    "    pass"
   ]
  },
  {
   "cell_type": "code",
   "execution_count": null,
   "metadata": {
    "state": "normal"
   },
   "outputs": [],
   "source": [
    "timeit('sum(range(10_000))', number=1000)"
   ]
  },
  {
   "cell_type": "markdown",
   "metadata": {
    "state": "normal"
   },
   "source": [
    "## 3. The `timeit` module\n",
    "\n",
    "The [`timeit`](https://docs.python.org/3/library/timeit.html) module is a built-in library for measuring the execution of code passed in as a string."
   ]
  },
  {
   "cell_type": "code",
   "execution_count": null,
   "metadata": {
    "state": "normal"
   },
   "outputs": [],
   "source": [
    "import timeit\n",
    "timeit.timeit('sum(range(10_000))', number=1000)"
   ]
  },
  {
   "cell_type": "markdown",
   "metadata": {},
   "source": [
    "It also supports passing in \"setup\" code that is not timed."
   ]
  },
  {
   "cell_type": "code",
   "execution_count": null,
   "metadata": {
    "state": "normal"
   },
   "outputs": [],
   "source": [
    "timeit.timeit('sum(r)', \n",
    "              setup='r = range(10_000)', \n",
    "              number=1000)"
   ]
  },
  {
   "cell_type": "markdown",
   "metadata": {
    "state": "normal"
   },
   "source": [
    "We can easily use this to gather timings for multiple input values:"
   ]
  },
  {
   "cell_type": "code",
   "execution_count": null,
   "metadata": {
    "state": "normal"
   },
   "outputs": [],
   "source": [
    "[timeit.timeit('sum(r)',\n",
    "               setup=f'r = range({n})',\n",
    "               number=1000)\n",
    " for n in range(1000, 11_000, 1000)]"
   ]
  },
  {
   "cell_type": "markdown",
   "metadata": {
    "state": "normal"
   },
   "source": [
    "Sometimes we might want to make use of functions defined in our notebook in the timed/setup code passed to `timeit`. We need to use the `globals` argument for this:"
   ]
  },
  {
   "cell_type": "code",
   "execution_count": null,
   "metadata": {
    "state": "normal"
   },
   "outputs": [],
   "source": [
    "def fib(n):\n",
    "    if n == 0:\n",
    "        return 0\n",
    "    elif n == 1:\n",
    "        return 1\n",
    "    else:\n",
    "        return fib(n-1) + fib(n-2)"
   ]
  },
  {
   "cell_type": "code",
   "execution_count": null,
   "metadata": {
    "state": "normal"
   },
   "outputs": [],
   "source": [
    "[fib(n) for n in range(15)]"
   ]
  },
  {
   "cell_type": "code",
   "execution_count": null,
   "metadata": {
    "state": "normal"
   },
   "outputs": [],
   "source": [
    "[timeit.timeit(f'fib({n})',\n",
    "               number=1000,\n",
    "               globals=globals()) # recall: \"globals()\" returns a dictionary of everything\n",
    "                                  # defined in this module; timeit needs it to access `fib`\n",
    " for n in range(1, 15)]"
   ]
  },
  {
   "cell_type": "markdown",
   "metadata": {},
   "source": [
    "### Magic timing commands\n",
    "\n",
    "There are also \"magic\" notebook commands that can be used to time code -- they are `%time`, `%timeit`, and `%%timeit`"
   ]
  },
  {
   "cell_type": "code",
   "execution_count": null,
   "metadata": {},
   "outputs": [],
   "source": [
    "%time sum(range(10_000))"
   ]
  },
  {
   "cell_type": "code",
   "execution_count": null,
   "metadata": {},
   "outputs": [],
   "source": [
    "%timeit -n 1000 sum(range(10_000))"
   ]
  },
  {
   "cell_type": "code",
   "execution_count": null,
   "metadata": {},
   "outputs": [],
   "source": [
    "%%timeit -n 1000\n",
    "\n",
    "total = 0\n",
    "for n in range(10_000):\n",
    "    total += n"
   ]
  },
  {
   "cell_type": "markdown",
   "metadata": {},
   "source": [
    "It isn't as convenient to use the magic commands to get timings into a data structure (e.g., a list) for subsequent processing, though, so we will typically use the `timeit` module programmatically."
   ]
  },
  {
   "cell_type": "markdown",
   "metadata": {
    "state": "normal"
   },
   "source": [
    "## 4. Drawing plots with `matplotlib`\n",
    "\n",
    "The [matplotlib library](https://matplotlib.org) supports the creation of all sorts of visualizations. We will use it for drawing simple 2-dimensional plots.\n",
    "\n",
    "The primary plotting function we will use is `matplotlib.pyplot.plot` ([full documentation here](https://matplotlib.org/api/_as_gen/matplotlib.pyplot.plot.html#matplotlib.pyplot.plot)), which, when passed two \"array-like\" objects of equal length, will interpret and plot their contents as x and y axis coordinates. We will generally use tuples, lists, and ranges as array-like objects. Note that generators are *not* considered array-like by matplotlib.\n",
    "\n",
    "Some examples (note that we use a semicolon after the call to `plot` to hide its return value):"
   ]
  },
  {
   "cell_type": "code",
   "execution_count": null,
   "metadata": {
    "state": "normal"
   },
   "outputs": [],
   "source": [
    "import matplotlib.pyplot as plt\n",
    "import numpy as np\n",
    "import math\n",
    "\n",
    "%matplotlib inline\n",
    "plt.rcParams['figure.figsize'] = [10, 6] # set size of plot"
   ]
  },
  {
   "cell_type": "code",
   "execution_count": null,
   "metadata": {
    "state": "normal"
   },
   "outputs": [],
   "source": [
    "plt.plot([1, 2, 3, 4, 5], [50, 20, 30, 10, 40]);"
   ]
  },
  {
   "cell_type": "code",
   "execution_count": null,
   "metadata": {
    "state": "normal"
   },
   "outputs": [],
   "source": [
    "xs = range(11)\n",
    "ys = [x*2 for x in xs]\n",
    "plt.plot(xs, ys);"
   ]
  },
  {
   "cell_type": "markdown",
   "metadata": {
    "state": "normal"
   },
   "source": [
    "We can also provide an optional format string to `plot`, which controls marker, line-style, and color for the plot.\n",
    "\n",
    "Here's a shortened list of options copied from the [full documentation of `plot`](https://matplotlib.org/api/_as_gen/matplotlib.pyplot.plot.html#matplotlib.pyplot.plot):\n",
    "\n",
    "**Markers**\n",
    "\n",
    "  - `.` : point marker\n",
    "  - `o` : circle marker\n",
    "  - `s` : square marker\n",
    "  - `d` : diamond marker\n",
    "\n",
    "**Line-styles**\n",
    " \n",
    "  - `-` : solid line style\n",
    "  - `--` : dashed line style\n",
    "  - `:` : dotted line style\n",
    "\n",
    "**Colors**\n",
    "\n",
    "  - `k` : black\n",
    "  - `r` : red\n",
    "  - `g` : blue\n",
    "  - `b` : green\n",
    "  - `y` : yellow\n",
    "  - `c` : cyan\n",
    "  \n",
    "Here are the above plots with some color and styling (if we omit a line style no connecting line is drawn between data points):"
   ]
  },
  {
   "cell_type": "code",
   "execution_count": null,
   "metadata": {
    "state": "normal"
   },
   "outputs": [],
   "source": [
    "plt.plot([1, 2, 3, 4, 5], [50, 20, 30, 10, 40], 'o--r');"
   ]
  },
  {
   "cell_type": "code",
   "execution_count": null,
   "metadata": {
    "state": "normal"
   },
   "outputs": [],
   "source": [
    "xs = range(11)\n",
    "ys = [x*2 for x in xs]\n",
    "plt.plot(xs, ys, 'dg');"
   ]
  },
  {
   "cell_type": "markdown",
   "metadata": {
    "state": "normal"
   },
   "source": [
    "Instead of regular `range` objects, which only allow for integral start/stop/step values, we typically prefer to use the [numpy library](https://numpy.org)'s `arange` and `linspace` functions with matplotlib. `arange` is like `range`, except we can use floating point values for start/stop/step. `linspace` lets us specify start and stop values (both inclusive), and the number of values to return in that interval.\n",
    "\n",
    "Examples of `arange` and `linspace` calls (note that both functions return numpy arrays, which are iterable and can be passed to `plot`):"
   ]
  },
  {
   "cell_type": "code",
   "execution_count": null,
   "metadata": {
    "state": "normal"
   },
   "outputs": [],
   "source": [
    "np.arange(0.5, 2.5, 0.1)"
   ]
  },
  {
   "cell_type": "code",
   "execution_count": null,
   "metadata": {
    "state": "normal"
   },
   "outputs": [],
   "source": [
    "np.linspace(10, 20, 41)"
   ]
  },
  {
   "cell_type": "code",
   "execution_count": null,
   "metadata": {
    "state": "normal"
   },
   "outputs": [],
   "source": [
    "np.linspace(1, 100_000, 50, dtype=int) # we can specify the data type to coerce values into integers"
   ]
  },
  {
   "cell_type": "markdown",
   "metadata": {
    "state": "normal"
   },
   "source": [
    "`plot` can be called multiple times in the same cell to draw multiple lines in the same chart. Below we use this facility together with `linspace` and a handful of list comprehensions to plot some common runtime complexity bounding functions (more on that soon) over a small interval: "
   ]
  },
  {
   "cell_type": "code",
   "execution_count": null,
   "metadata": {
    "state": "normal"
   },
   "outputs": [],
   "source": [
    "count = 100\n",
    "xs = np.linspace(0.1, 4, count)\n",
    "ys_const        = [1] * count\n",
    "ys_log          = [math.log(x) for x in xs]\n",
    "ys_linear       = [x for x in xs]\n",
    "ys_linearithmic = [x * math.log(x) for x in xs]\n",
    "ys_quadratic    = [x**2 for x in xs]\n",
    "ys_exponential  = [2**x for x in xs]\n",
    "\n",
    "plt.plot(xs, ys_const, 'c')\n",
    "plt.plot(xs, ys_log, 'r')\n",
    "plt.plot(xs, ys_linear, 'b')\n",
    "plt.plot(xs, ys_linearithmic, 'g')\n",
    "plt.plot(xs, ys_quadratic, 'y');\n",
    "plt.plot(xs, ys_exponential, 'm');"
   ]
  },
  {
   "cell_type": "markdown",
   "metadata": {
    "state": "normal"
   },
   "source": [
    "## 5. Plotting timings"
   ]
  },
  {
   "cell_type": "markdown",
   "metadata": {
    "state": "normal"
   },
   "source": [
    "Plotting timing data collected from functions may help give us a sense of how their runtimes scale with increasing input sizes."
   ]
  },
  {
   "cell_type": "code",
   "execution_count": null,
   "metadata": {
    "state": "normal"
   },
   "outputs": [],
   "source": [
    "# runtimes for sum for increasing sizes of input\n",
    "\n",
    "ns = np.linspace(10, 10_000, 50, dtype=int)\n",
    "ts = [timeit.timeit(f'sum(range({n}))', number=100)\n",
    "      for n in ns]\n",
    "\n",
    "plt.plot(ns, ts, 'or');"
   ]
  },
  {
   "cell_type": "markdown",
   "metadata": {
    "state": "normal"
   },
   "source": [
    "Clearly, the runtime of `sum` is directly proportional to the number of values it operates on. \n",
    "\n",
    "If we assume a linear relationship, we can compute the average slope between adjacent data points to come up with an line of approximate fit that may help us predict the runtime of `sum`."
   ]
  },
  {
   "cell_type": "code",
   "execution_count": null,
   "metadata": {
    "state": "normal"
   },
   "outputs": [],
   "source": [
    "total = 0\n",
    "\n",
    "for i in range(len(ns)-1):\n",
    "    total += ? # recall: slope = rise / run\n",
    "    \n",
    "avg_slope = total / (len(ns)-1)"
   ]
  },
  {
   "cell_type": "code",
   "execution_count": null,
   "metadata": {},
   "outputs": [],
   "source": [
    "avg_slope"
   ]
  },
  {
   "cell_type": "markdown",
   "metadata": {},
   "source": [
    "We can also use the statistics module to help us compute the mean:"
   ]
  },
  {
   "cell_type": "code",
   "execution_count": null,
   "metadata": {},
   "outputs": [],
   "source": [
    "import statistics\n",
    "avg_slope = statistics.mean((ts[i+1] - ts[i]) / (ns[i+1] - ns[i]) for i in range(len(ns)-1))\n",
    "avg_slope"
   ]
  },
  {
   "cell_type": "markdown",
   "metadata": {
    "state": "normal"
   },
   "source": [
    "It should make sense that for our bounding linear functions, we simply need to pick $c_1$ < slope, and $c_2$ > slope. To be safe, we use the multipliers 0.8 and 1.2 in our plot below (we also plot the line using the unaltered slope for good measure):"
   ]
  },
  {
   "cell_type": "code",
   "execution_count": null,
   "metadata": {
    "state": "normal"
   },
   "outputs": [],
   "source": [
    "plt.plot(ns, ts, 'or')\n",
    "plt.plot(ns, [avg_slope*n for n in ns], '--b');"
   ]
  },
  {
   "cell_type": "code",
   "execution_count": null,
   "metadata": {
    "state": "normal"
   },
   "outputs": [],
   "source": [
    "# i.e., for input of size N, runtime is estimated at:\n",
    "for n in np.linspace(1, 100_000_000, 11, dtype=int):\n",
    "    print(f'Runtime of sum(range({n:>11,})) ~ {avg_slope * n / 100:>5.2f} s')"
   ]
  },
  {
   "cell_type": "markdown",
   "metadata": {
    "state": "normal"
   },
   "source": [
    "We can also use [`polyfit`](https://numpy.org/doc/1.18/reference/generated/numpy.polyfit.html) to compute a best-fitting polynomial function of arbitrary degree for our data:"
   ]
  },
  {
   "cell_type": "code",
   "execution_count": null,
   "metadata": {
    "state": "normal"
   },
   "outputs": [],
   "source": [
    "degree = 10\n",
    "coeffs = np.polyfit(ns, ts, degree)\n",
    "p = np.poly1d(coeffs)\n",
    "plt.plot(ns, ts, 'or')\n",
    "plt.plot(ns, [p(n) for n in ns], '-b');"
   ]
  },
  {
   "cell_type": "markdown",
   "metadata": {
    "state": "normal"
   },
   "source": [
    "Is there a downside to this approach?"
   ]
  },
  {
   "cell_type": "code",
   "execution_count": null,
   "metadata": {
    "state": "normal"
   },
   "outputs": [],
   "source": [
    "# i.e., for input of size N, runtime is estimated at:\n",
    "for n in np.linspace(1, 100_000_000, 11, dtype=int):\n",
    "    print(f'Runtime of sum(range({n:>11,})) ~ {p(n)/100:.2f} s')"
   ]
  },
  {
   "cell_type": "markdown",
   "metadata": {
    "state": "normal"
   },
   "source": [
    "Choosing an ill-fitting function may result in wildly inaccurate runtime predictions. Worse, inaccuracies are compounded as input sizes grow large!\n",
    "\n",
    "How do we know what class of function to use (e.g., logarithmic, linear, nth-degree polynomial, exponential) for modeling the runtime behavior of algorithms? \n",
    "\n",
    "Can we reliably determine this through empirical observation?"
   ]
  },
  {
   "cell_type": "markdown",
   "metadata": {
    "state": "normal"
   },
   "source": [
    "## 6. Timing Examples"
   ]
  },
  {
   "cell_type": "markdown",
   "metadata": {
    "state": "normal"
   },
   "source": [
    "### Built-in list indexing\n",
    "\n",
    "What is the runtime behavior of list-indexing?"
   ]
  },
  {
   "cell_type": "code",
   "execution_count": null,
   "metadata": {
    "state": "normal"
   },
   "outputs": [],
   "source": [
    "lst = list(range(1_000_000))\n",
    "ns = np.linspace(0, len(lst), 1000, endpoint=False, dtype=int)\n",
    "ts = [timeit.timeit(f'_ = lst[{n}]',\n",
    "                    globals=globals(), \n",
    "                    number=10000) \n",
    "      for n in ns]\n",
    "\n",
    "plt.plot(ns, ts, 'or');"
   ]
  },
  {
   "cell_type": "markdown",
   "metadata": {
    "state": "normal"
   },
   "source": [
    "Observation: accessing an element in a list by index -- *regardless of where in the list the element is located* -- takes a uniform/constant amount of time.\n",
    "\n",
    "How? **A Python list uses an array as its underlying data storage mechanism.** Every \"slot\" of an array is a reference (i.e., a fixed-width address) to an object, and to access an element at a particular index, the underlying code:\n",
    "\n",
    "1. Computes an *offset* into the array by multiplying the index by the size of a reference\n",
    "2. Adds the computed offset to the *base address* of the array, giving us the address of the reference\n",
    "3. Accesses the reference and uses it to load the associated element\n",
    "\n",
    "Each of the steps above can be performed in constant time."
   ]
  },
  {
   "cell_type": "markdown",
   "metadata": {
    "state": "normal"
   },
   "source": [
    "### Linear Search"
   ]
  },
  {
   "cell_type": "markdown",
   "metadata": {
    "state": "normal"
   },
   "source": [
    "What is the runtime behavior of searching for an element in an unsorted list?"
   ]
  },
  {
   "cell_type": "code",
   "execution_count": null,
   "metadata": {
    "state": "normal"
   },
   "outputs": [],
   "source": [
    "def contains(lst, x):\n",
    "    pass"
   ]
  },
  {
   "cell_type": "code",
   "execution_count": null,
   "metadata": {
    "state": "normal"
   },
   "outputs": [],
   "source": [
    "import random\n",
    "lst = list(range(100))\n",
    "random.shuffle(lst)\n",
    "\n",
    "contains(lst, 10)"
   ]
  },
  {
   "cell_type": "code",
   "execution_count": null,
   "metadata": {
    "state": "normal"
   },
   "outputs": [],
   "source": [
    "# runtimes when searching for a present element in a randomly shuffled list\n",
    "\n",
    "ns = np.linspace(10, 10_000, 100, dtype=int)\n",
    "ts = [timeit.timeit('contains(lst, 0)', \n",
    "                    setup=f'lst=list(range({n})); random.shuffle(lst)',\n",
    "                    globals=globals(),\n",
    "                    number=100)\n",
    "      for n in ns]\n",
    "\n",
    "plt.plot(ns, ts, 'or');"
   ]
  },
  {
   "cell_type": "code",
   "execution_count": null,
   "metadata": {
    "state": "normal"
   },
   "outputs": [],
   "source": [
    "# runtimes when searching for an element that is not present\n",
    "\n",
    "ns = np.linspace(1_000, 10_000, 100, dtype=int)\n",
    "ts = [timeit.timeit('contains(lst, -1)', \n",
    "                    setup=f'lst=list(range({n}))',\n",
    "                    globals=globals(),\n",
    "                    number=100)\n",
    "      for n in ns]\n",
    "\n",
    "plt.plot(ns, ts, 'or');"
   ]
  },
  {
   "cell_type": "markdown",
   "metadata": {
    "state": "normal"
   },
   "source": [
    "### Binary search"
   ]
  },
  {
   "cell_type": "markdown",
   "metadata": {
    "state": "normal"
   },
   "source": [
    "What is the runtime behavior of searching for an element in a sorted list using binary search?"
   ]
  },
  {
   "cell_type": "code",
   "execution_count": null,
   "metadata": {
    "state": "normal"
   },
   "outputs": [],
   "source": [
    "def contains(lst, x):\n",
    "    pass"
   ]
  },
  {
   "cell_type": "code",
   "execution_count": null,
   "metadata": {
    "state": "normal"
   },
   "outputs": [],
   "source": [
    "lst = list(range(1000))\n",
    "contains(lst, 10)"
   ]
  },
  {
   "cell_type": "code",
   "execution_count": null,
   "metadata": {
    "state": "normal"
   },
   "outputs": [],
   "source": [
    "# runtimes when searching for different values in a fixed-size list\n",
    "\n",
    "lst = list(range(1000))\n",
    "ns = range(1000)\n",
    "ts = [timeit.timeit(stmt=f'contains(lst, {x})', \n",
    "                    globals=globals(), \n",
    "                    number=1000)\n",
    "      for x in range(1000)]\n",
    "\n",
    "plt.plot(ns, ts, 'or');"
   ]
  },
  {
   "cell_type": "code",
   "execution_count": null,
   "metadata": {
    "state": "normal"
   },
   "outputs": [],
   "source": [
    "# runtimes when searching for an edge-value in lists of increasing size\n",
    "\n",
    "ns = np.linspace(10, 10_000, 100, dtype=int)\n",
    "ts = [timeit.timeit('contains(lst, 0)', \n",
    "                    setup=f'lst=list(range({n}))',\n",
    "                    globals=globals(),\n",
    "                    number=1000)\n",
    "      for n in ns]\n",
    "\n",
    "plt.plot(ns, ts, 'or');"
   ]
  },
  {
   "cell_type": "markdown",
   "metadata": {
    "state": "normal"
   },
   "source": [
    "### Insertion sort"
   ]
  },
  {
   "cell_type": "markdown",
   "metadata": {
    "state": "normal"
   },
   "source": [
    "What is the runtime behavior of insertion sort?"
   ]
  },
  {
   "cell_type": "code",
   "execution_count": null,
   "metadata": {
    "state": "normal"
   },
   "outputs": [],
   "source": [
    "def insertion_sort(lst):\n",
    "    pass"
   ]
  },
  {
   "cell_type": "code",
   "execution_count": null,
   "metadata": {
    "state": "normal"
   },
   "outputs": [],
   "source": [
    "import random\n",
    "lst = list(range(1000))\n",
    "random.shuffle(lst)\n",
    "plt.plot(lst, 'og');"
   ]
  },
  {
   "cell_type": "code",
   "execution_count": null,
   "metadata": {
    "state": "normal"
   },
   "outputs": [],
   "source": [
    "insertion_sort(lst)\n",
    "plt.plot(lst, 'og');"
   ]
  },
  {
   "cell_type": "code",
   "execution_count": null,
   "metadata": {
    "state": "normal"
   },
   "outputs": [],
   "source": [
    "# runtimes for a randomized list\n",
    "\n",
    "ns = np.linspace(100, 2000, 15, dtype=int)\n",
    "ts = [timeit.timeit('insertion_sort(lst)',\n",
    "                    setup=f'lst=list(range({n})); random.shuffle(lst)',\n",
    "                    globals=globals(),\n",
    "                    number=1)\n",
    "         for n in ns]\n",
    "\n",
    "plt.plot(ns, ts, 'or');"
   ]
  },
  {
   "cell_type": "code",
   "execution_count": null,
   "metadata": {
    "state": "normal"
   },
   "outputs": [],
   "source": [
    "# runtimes for an already sorted list\n",
    "\n",
    "ns = np.linspace(100, 2000, 15, dtype=int)\n",
    "ts = [timeit.timeit('insertion_sort(lst)',\n",
    "                    setup=f'lst=list(range({n}))',\n",
    "                    globals=globals(),\n",
    "                    number=1)\n",
    "         for n in ns]\n",
    "\n",
    "plt.plot(ns, ts, 'or');"
   ]
  },
  {
   "cell_type": "code",
   "execution_count": null,
   "metadata": {
    "state": "normal"
   },
   "outputs": [],
   "source": [
    "# runtimes for a reversed list\n",
    "\n",
    "ns = np.linspace(100, 2000, 15, dtype=int)\n",
    "ts = [timeit.timeit('insertion_sort(lst)',\n",
    "                    setup=f'lst=list(reversed(range({n})))',\n",
    "                    globals=globals(),\n",
    "                    number=1)\n",
    "         for n in ns]\n",
    "\n",
    "plt.plot(ns, ts, 'or');"
   ]
  },
  {
   "cell_type": "code",
   "execution_count": null,
   "metadata": {
    "state": "normal"
   },
   "outputs": [],
   "source": [
    "# above runtimes superimposed\n",
    "\n",
    "ns = np.linspace(100, 2000, 15, dtype=int)\n",
    "ts1 = [timeit.timeit('insertion_sort(lst)',\n",
    "                     setup=f'lst=list((range({n})))',\n",
    "                     globals=globals(),\n",
    "                     number=1)\n",
    "       for n in ns]\n",
    "ts2 = [timeit.timeit('insertion_sort(lst)',\n",
    "                     setup=f'lst=list(range({n})); random.shuffle(lst)',\n",
    "                     globals=globals(),\n",
    "                     number=1)\n",
    "       for n in ns]\n",
    "\n",
    "ts3 = [timeit.timeit('insertion_sort(lst)',\n",
    "                     setup=f'lst=list(reversed(range({n})))',\n",
    "                     globals=globals(),\n",
    "                     number=1)\n",
    "       for n in ns]\n",
    "\n",
    "plt.plot(ns, ts1, 'og');\n",
    "plt.plot(ns, ts2, 'ob');\n",
    "plt.plot(ns, ts3, 'or');"
   ]
  },
  {
   "cell_type": "markdown",
   "metadata": {
    "state": "normal"
   },
   "source": [
    "### Collatz conjecture"
   ]
  },
  {
   "cell_type": "markdown",
   "metadata": {
    "state": "normal"
   },
   "source": [
    "The Collatz conjecture defines a series of numbers starting with any positive integer $n$, where subsequent terms in the series are computed with the following function:\n",
    "\n",
    "$f(n) = \\begin{cases} n/2 &\\mbox{if $n$ is even} \\\\ 3n+1 & \\mbox{if $n$ is odd} \\end{cases}$\n",
    "\n",
    "The conjecture is that regardless of the starting integer, the series ends in 1.\n",
    "\n",
    "What is the runtime behavior of the Collatz series generating function, for increasing values of $n$?"
   ]
  },
  {
   "cell_type": "code",
   "execution_count": null,
   "metadata": {
    "state": "normal"
   },
   "outputs": [],
   "source": [
    "def collatz(n):\n",
    "    pass"
   ]
  },
  {
   "cell_type": "code",
   "execution_count": null,
   "metadata": {
    "state": "normal"
   },
   "outputs": [],
   "source": [
    "collatz(9)"
   ]
  },
  {
   "cell_type": "code",
   "execution_count": null,
   "metadata": {
    "state": "normal"
   },
   "outputs": [],
   "source": [
    "# runtimes for different values of n\n",
    "\n",
    "ns = np.linspace(1, 100_000, 200, dtype=int)\n",
    "ts = [timeit.timeit(f'collatz({n})',\n",
    "                    globals=globals(),\n",
    "                    number=100)\n",
    "      for n in ns]\n",
    "\n",
    "plt.plot(ns, ts, 'or');"
   ]
  },
  {
   "cell_type": "markdown",
   "metadata": {
    "state": "normal"
   },
   "source": [
    "Proving the conjecture is an open research problem! (I.e., it's possible that the series doesn't terminate for some value of $n$, though such $n$ is not known to exist.)"
   ]
  },
  {
   "cell_type": "markdown",
   "metadata": {
    "state": "normal"
   },
   "source": [
    "## 7. Takeaways\n",
    "\n",
    "- timing and plotting libraries allow us to systematically measure and visualize the runtime behavior of algorithms over different inputs\n",
    "- different characteristics of input (e.g., shuffled, ordered, reversed) can have a profound impact on the runtime of algorithms\n",
    "- empirical runtime measurements do not always paint a clear, accurate, or consistent picture of the long-term runtime behavior of a function\n",
    "- choosing the wrong class of function to describe the runtime behavior of an algorithm can result in disastrously wrong predictions\n",
    "- timing results are useful, but we need a more systematic and rigorous way of describing and comparing the runtime behavior of algorithms!"
   ]
  }
 ],
 "metadata": {
  "kernelspec": {
   "display_name": "Python 3",
   "language": "python",
   "name": "python3"
  },
  "language_info": {
   "codemirror_mode": {
    "name": "ipython",
    "version": 3
   },
   "file_extension": ".py",
   "mimetype": "text/x-python",
   "name": "python",
   "nbconvert_exporter": "python",
   "pygments_lexer": "ipython3",
   "version": "3.9.1"
  },
  "mimir": {
   "data": {},
   "last_submission_id": "",
   "project_id": "bd374d38-d0b1-4e36-829b-16d3963ac926"
  },
  "varInspector": {
   "cols": {
    "lenName": 16,
    "lenType": 16,
    "lenVar": 40
   },
   "kernels_config": {
    "python": {
     "delete_cmd_postfix": "",
     "delete_cmd_prefix": "del ",
     "library": "var_list.py",
     "varRefreshCmd": "print(var_dic_list())"
    },
    "r": {
     "delete_cmd_postfix": ") ",
     "delete_cmd_prefix": "rm(",
     "library": "var_list.r",
     "varRefreshCmd": "cat(var_dic_list()) "
    }
   },
   "types_to_exclude": [
    "module",
    "function",
    "builtin_function_or_method",
    "instance",
    "_Feature"
   ],
   "window_display": false
  }
 },
 "nbformat": 4,
 "nbformat_minor": 4
}
