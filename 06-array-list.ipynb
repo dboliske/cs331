{
 "cells": [
  {
   "cell_type": "markdown",
   "metadata": {},
   "source": [
    "# The Array-Backed List\n",
    "\n",
    "## Agenda\n",
    "\n",
    "1. The List **Abstract Data Type** (ADT)\n",
    "2. A List **Data Structure**\n",
    "3. Our List API\n",
    "4. Getting started\n",
    "5. NumPy arrays\n",
    "6. The `ArrayList` data structure\n",
    "7. Runtime analysis"
   ]
  },
  {
   "cell_type": "markdown",
   "metadata": {},
   "source": [
    "## 1. The List **Abstract Data Type** (ADT)\n",
    "\n",
    "An **abstract data type (ADT)** defines a *conceptual model* for how data may be stored and accessed.\n",
    "\n",
    "A **list ADT** is a data container where:\n",
    "\n",
    "- values are ordered in a *sequence*\n",
    "- each value has at most one preceding and one succeeding value\n",
    "- a given value may appear more than once in a list\n",
    "\n",
    "Other common ADTs (some of which we'll explore later) include:\n",
    "\n",
    "- Stacks\n",
    "- Queues\n",
    "- Priority Queues\n",
    "- Maps\n",
    "- Graphs"
   ]
  },
  {
   "cell_type": "markdown",
   "metadata": {},
   "source": [
    "## 2. A List **Data Structure**\n",
    "\n",
    "A **list data structure** is a *concrete implementation* of the list ADT in some programming language, which, in addition to adhering to the basic premises of the ADT, will also typically support operations that:\n",
    "\n",
    "- access values in the list by their position (index)\n",
    "- append and insert new values into the list\n",
    "- remove values from the list\n",
    "\n",
    "The implementation of any data structure will generally rely on simpler, constituent data types (e.g., \"primitive\" types offered by the language), the choice of which may affect the runtime complexities of said operations."
   ]
  },
  {
   "cell_type": "markdown",
   "metadata": {},
   "source": [
    "## 3. The List API\n",
    "\n",
    "The operations we'll be building into our list data structures will be based on the [common](https://docs.python.org/3.6/library/stdtypes.html#common-sequence-operations) and [mutable](https://docs.python.org/3.6/library/stdtypes.html#mutable-sequence-types) sequence operations defined by the Python library."
   ]
  },
  {
   "cell_type": "code",
   "execution_count": null,
   "metadata": {},
   "outputs": [],
   "source": [
    "class List:        \n",
    "    ### subscript-based access ###\n",
    "    \n",
    "    def __getitem__(self, idx):\n",
    "        \"\"\"Implements `x = self[idx]`\"\"\"\n",
    "        pass\n",
    "\n",
    "    def __setitem__(self, idx, value):\n",
    "        \"\"\"Implements `self[idx] = x`\"\"\"\n",
    "        pass\n",
    "\n",
    "    def __delitem__(self, idx):\n",
    "        \"\"\"Implements `del self[idx]`\"\"\"\n",
    "        pass\n",
    "    \n",
    "    ### stringification ###\n",
    "            \n",
    "    def __repr__(self):\n",
    "        \"\"\"Supports inspection\"\"\"\n",
    "        return '[]'\n",
    "    \n",
    "    def __str__(self):\n",
    "        \"\"\"Implements `str(self)`\"\"\"\n",
    "        return '[]'\n",
    "\n",
    "    ### single-element manipulation ###\n",
    "    \n",
    "    def append(self, value):\n",
    "        pass\n",
    "    \n",
    "    def insert(self, idx, value):\n",
    "        pass\n",
    "    \n",
    "    def pop(self, idx=-1):\n",
    "        pass\n",
    "    \n",
    "    def remove(self, value):\n",
    "        pass\n",
    "    \n",
    "    ### predicates (T/F queries) ###\n",
    "    \n",
    "    def __eq__(self, other):\n",
    "        \"\"\"Implements `self == other`\"\"\"\n",
    "        return True\n",
    "\n",
    "    def __contains__(self, value):\n",
    "        \"\"\"Implements `val in self`\"\"\"\n",
    "        return True\n",
    "    \n",
    "    ### queries ###\n",
    "    \n",
    "    def __len__(self):\n",
    "        \"\"\"Implements `len(self)`\"\"\"\n",
    "        return len(self.data)\n",
    "    \n",
    "    def min(self):\n",
    "        pass\n",
    "    \n",
    "    def max(self):\n",
    "        pass\n",
    "    \n",
    "    def index(self, value, i, j):\n",
    "        pass\n",
    "    \n",
    "    def count(self, value):\n",
    "        pass\n",
    "\n",
    "    ### bulk operations ###\n",
    "\n",
    "    def __add__(self, other):\n",
    "        \"\"\"Implements `self + other_array_list`\"\"\"\n",
    "        return self\n",
    "    \n",
    "    def clear(self):\n",
    "        pass\n",
    "    \n",
    "    def copy(self):\n",
    "        pass\n",
    "\n",
    "    def extend(self, other):\n",
    "        pass\n",
    "\n",
    "    ### iteration ###\n",
    "    \n",
    "    def __iter__(self):\n",
    "        \"\"\"Supports iteration (via `iter(self)`)\"\"\"\n",
    "        pass"
   ]
  },
  {
   "cell_type": "markdown",
   "metadata": {},
   "source": [
    "## 4. Getting started"
   ]
  },
  {
   "cell_type": "code",
   "execution_count": 1,
   "metadata": {
    "tags": []
   },
   "outputs": [],
   "source": [
    "class List:\n",
    "    def append(self, value):\n",
    "        self.val = value\n",
    "    \n",
    "    def __getitem__(self, idx):\n",
    "        \"\"\"Implements `x = self[idx]`\"\"\"\n",
    "        return self.val\n",
    "\n",
    "    def __setitem__(self, idx, value):\n",
    "        \"\"\"Implements `self[idx] = x`\"\"\"\n",
    "        self.val = value\n",
    "    \n",
    "    def __repr__(self):\n",
    "        \"\"\"Supports inspection\"\"\"\n",
    "        return f'[{repr(self.val)}]'"
   ]
  },
  {
   "cell_type": "code",
   "execution_count": 2,
   "metadata": {},
   "outputs": [
    {
     "data": {
      "text/plain": [
       "[42]"
      ]
     },
     "execution_count": 2,
     "metadata": {},
     "output_type": "execute_result"
    }
   ],
   "source": [
    "l = List()\n",
    "l.append(42)\n",
    "l"
   ]
  },
  {
   "cell_type": "code",
   "execution_count": 3,
   "metadata": {},
   "outputs": [
    {
     "data": {
      "text/plain": [
       "42"
      ]
     },
     "execution_count": 3,
     "metadata": {},
     "output_type": "execute_result"
    }
   ],
   "source": [
    "l[0]"
   ]
  },
  {
   "cell_type": "code",
   "execution_count": 4,
   "metadata": {},
   "outputs": [],
   "source": [
    "l[0] = 331"
   ]
  },
  {
   "cell_type": "code",
   "execution_count": 7,
   "metadata": {},
   "outputs": [
    {
     "data": {
      "text/plain": [
       "331"
      ]
     },
     "execution_count": 7,
     "metadata": {},
     "output_type": "execute_result"
    }
   ],
   "source": [
    "l[100]"
   ]
  },
  {
   "cell_type": "code",
   "execution_count": 6,
   "metadata": {},
   "outputs": [
    {
     "data": {
      "text/plain": [
       "[331]"
      ]
     },
     "execution_count": 6,
     "metadata": {},
     "output_type": "execute_result"
    }
   ],
   "source": [
    "l"
   ]
  },
  {
   "cell_type": "markdown",
   "metadata": {},
   "source": [
    "Of course, we need our list implementation to hold more than a single element. The obvious solution for this is to use an *array*."
   ]
  },
  {
   "cell_type": "markdown",
   "metadata": {},
   "source": [
    "## 5. NumPy arrays\n",
    "\n",
    "Python does not come with a built-in array type. Instead, we're going to make use of the array implementation provided by the [NumPy scientific computing package](https://numpy.org/doc/stable/user/absolute_beginners.html).\n",
    "\n",
    "To create a NumPy array of size N, we can do:"
   ]
  },
  {
   "cell_type": "code",
   "execution_count": 8,
   "metadata": {},
   "outputs": [],
   "source": [
    "import numpy as np\n",
    "\n",
    "N = 10\n",
    "arr = np.empty(N, dtype=object)"
   ]
  },
  {
   "cell_type": "markdown",
   "metadata": {},
   "source": [
    "The `dtype=object` specification indicates that we want to use the array to store references to arbitrary Python objects. The `empty` function creates an array of the specified size, but leaves all elements uninitialized.\n",
    "\n",
    "We can now manipulate elements in the array by index, as we are accustomed to doing. "
   ]
  },
  {
   "cell_type": "code",
   "execution_count": 9,
   "metadata": {},
   "outputs": [],
   "source": [
    "for i in range(10):\n",
    "    arr[i] = 2**i\n",
    "\n",
    "arr[5]  = 'hello'\n",
    "arr[9] = 'world'"
   ]
  },
  {
   "cell_type": "code",
   "execution_count": 10,
   "metadata": {},
   "outputs": [
    {
     "data": {
      "text/plain": [
       "array([1, 2, 4, 8, 16, 'hello', 64, 128, 256, 'world'], dtype=object)"
      ]
     },
     "execution_count": 10,
     "metadata": {},
     "output_type": "execute_result"
    }
   ],
   "source": [
    "arr"
   ]
  },
  {
   "cell_type": "markdown",
   "metadata": {},
   "source": [
    "While NumPy defines functions on arrays for appending, inserting, and deleting elements, we will not be using any of them. This is because each of these functions operates by creating a new array, copying the resulting elements over, then deleting the original array. This is both space and time inefficient! Instead, we will implement these operations ourselves -- optimizing them when possible -- within our own list class."
   ]
  },
  {
   "cell_type": "markdown",
   "metadata": {},
   "source": [
    "## 6. The `ArrayList` data structure"
   ]
  },
  {
   "cell_type": "markdown",
   "metadata": {},
   "source": [
    "Our list data structure will make use of a NumPy array as its backing data store. This array will have a fixed initial size, but as elements are added to the list it may become necessary to create a new, larger backing array and copy our elements over. Each time we create a new backing array, we will *double the capacity of the original* -- this may seem arbitrary now, but we will see why it is a critical detail later on!"
   ]
  },
  {
   "cell_type": "code",
   "execution_count": 11,
   "metadata": {},
   "outputs": [],
   "source": [
    "import numpy as np\n",
    "\n",
    "class ArrayList:\n",
    "    def __init__(self):\n",
    "        self.data = np.empty(1, dtype=object)\n",
    "        self.size = 0\n",
    "\n",
    "\n",
    "    def append(self, value):\n",
    "        if self.size == len(self.data): # check if backing array is full\n",
    "            ndata = np.empty(len(self.data) * 2, dtype=object) # new array, twice the size\n",
    "            for i in range(len(self.data)):\n",
    "                ndata[i] = self.data[i] # copy values over\n",
    "            self.data = ndata # replace our backing array with the new one\n",
    "\n",
    "        self.data[self.size] = value\n",
    "        self.size += 1\n",
    "\n",
    "\n",
    "    def __getitem__(self, idx):\n",
    "        \"\"\"Implements `x = self[idx]`\"\"\"\n",
    "        assert isinstance(idx, int), 'Index must be an integer'\n",
    "        if idx < 0:\n",
    "            idx += self.size\n",
    "        if idx < 0 or idx >= self.size:\n",
    "            raise IndexError('list index out of range')\n",
    "        return self.data[idx]\n",
    "    \n",
    "\n",
    "    def __setitem__(self, idx, value):\n",
    "        \"\"\"Implements `self[idx] = x`\"\"\"\n",
    "        assert isinstance(idx, int), 'Index must be an integer'\n",
    "        if idx < 0:\n",
    "            idx += self.size\n",
    "        if idx < 0 or idx >= self.size:\n",
    "            raise IndexError('list index out of range')\n",
    "        self.data[idx] = value\n",
    "        \n",
    "\n",
    "    def __delitem__(self, idx):\n",
    "        \"\"\"Implements `del self[idx]`\"\"\"\n",
    "        assert isinstance(idx, int), 'Index must be an integer'\n",
    "        if idx < 0:\n",
    "            idx += self.size\n",
    "        if idx < 0 or idx >= self.size:\n",
    "            raise IndexError('list index out of range')\n",
    "        for i in range(idx, self.size - 1):\n",
    "            self.data[i] = self.data[i+1]\n",
    "        self.size -= 1\n",
    "        \n",
    "    \n",
    "    def __len__(self):\n",
    "        \"\"\"Implements `len(self)`\"\"\"\n",
    "        return self.size\n",
    "    \n",
    "    \n",
    "    def __repr__(self):\n",
    "        \"\"\"Supports inspection\"\"\"\n",
    "        return '[' + ','.join(repr(self.data[i]) for i in range(self.size)) + ']'"
   ]
  },
  {
   "cell_type": "code",
   "execution_count": 12,
   "metadata": {},
   "outputs": [
    {
     "data": {
      "text/plain": [
       "[0,1,2,3,4,5,6,7,8,9]"
      ]
     },
     "execution_count": 12,
     "metadata": {},
     "output_type": "execute_result"
    }
   ],
   "source": [
    "l = ArrayList()\n",
    "for x in range(10):\n",
    "    l.append(x)\n",
    "l"
   ]
  },
  {
   "cell_type": "code",
   "execution_count": 13,
   "metadata": {},
   "outputs": [
    {
     "data": {
      "text/plain": [
       "['hello',1,2,3,4,5,6,7,8,'world']"
      ]
     },
     "execution_count": 13,
     "metadata": {},
     "output_type": "execute_result"
    }
   ],
   "source": [
    "l[0] = 'hello'\n",
    "l[-1] = 'world'\n",
    "l"
   ]
  },
  {
   "cell_type": "code",
   "execution_count": 14,
   "metadata": {},
   "outputs": [
    {
     "data": {
      "text/plain": [
       "['hello',1,'two',3,4,5,6,'seven',8,'world']"
      ]
     },
     "execution_count": 14,
     "metadata": {},
     "output_type": "execute_result"
    }
   ],
   "source": [
    "l[2] = 'two'\n",
    "l[-3] = 'seven'\n",
    "l"
   ]
  },
  {
   "cell_type": "code",
   "execution_count": 15,
   "metadata": {},
   "outputs": [
    {
     "data": {
      "text/plain": [
       "['hello',1,'two',3,4,6,'seven',8,'world']"
      ]
     },
     "execution_count": 15,
     "metadata": {},
     "output_type": "execute_result"
    }
   ],
   "source": [
    "del l[5]\n",
    "l"
   ]
  },
  {
   "cell_type": "code",
   "execution_count": 16,
   "metadata": {},
   "outputs": [
    {
     "data": {
      "text/plain": [
       "[1,'two',3,4,6,'seven',8]"
      ]
     },
     "execution_count": 16,
     "metadata": {},
     "output_type": "execute_result"
    }
   ],
   "source": [
    "del l[0]\n",
    "del l[-1]\n",
    "l"
   ]
  },
  {
   "cell_type": "code",
   "execution_count": 17,
   "metadata": {},
   "outputs": [
    {
     "data": {
      "text/plain": [
       "7"
      ]
     },
     "execution_count": 17,
     "metadata": {},
     "output_type": "execute_result"
    }
   ],
   "source": [
    "len(l)"
   ]
  },
  {
   "cell_type": "markdown",
   "metadata": {},
   "source": [
    "## 7. Runtime analysis"
   ]
  },
  {
   "cell_type": "markdown",
   "metadata": {},
   "source": [
    "- Indexing: Recall that array-indexing is a $O(1)$ operation. This translates into $O(1)$ runtime for both `__getitem__` and `__setitem__`.\n",
    "\n",
    "- Search (unsorted): In an unsorted array-backed list, linear search is required, which $O(N)$. \n",
    "\n",
    "- Search (sorted): In a sorted array-backed list, we can use binary search, which is $O(\\log N)$.\n",
    "\n",
    "- Deletion: The worst case for `__delitem__` occurs when we delete the element at index 0. This requires $N-1$ shifts, which is $O(N)$.\n",
    "\n",
    "- Append:\n",
    "\n",
    "   - If the backing array is not full, we just copy the given value into the array — this is $O(1)$ (cheap!).\n",
    "   \n",
    "   - Otherwise, we must copy everything to a new array along with the given value — this is $O(N)$ (expensive!), A naive interpretation points to this behavior yielding a $O(N)$ append.\n",
    "   \n",
    "   - But we only need to copy to new arrays (increasingly) rarely! A more sophisticated analysis pits the occasional costly, slow operation against the many more cheap, constant time ones. Can we distribute (aka *amortize*) the time used for the costly operations over the many cheap ones such that, on average, we can say that append is better than $O(N)$?\n",
    "   \n",
    "       - Assuming we start with an array of size 1 and double the array whenever we hit capacity, consider the cost (i.e., number of copies) incurred as we keep appending elements to the list:\n",
    "       \n",
    "               Append #:  1  2  3  4  5  6  7  8   9  10  11  12  13  14  15  16  17  18  19  20 ...\n",
    "               Capacity:  1  2  4  4  8  8  8  8  16  16  16  16  16  16  16  16  32  32  32  32 ...\n",
    "               Cost:      1  2  3  1  5  1  1  1   9   1   1   1   1   1   1   1  17   1   1   1 ...\n",
    "               \n",
    "       - Let's try to answer the amortization question directly. As we move through the appends, let us imagine that when we are dealing with a cheap operation we can \"save\" some extra credits to use to \"pay\" for an expensive operation when we get to it. Is there some amount of extra credit that will make this work?\n",
    "       \n",
    "           - It turns out that if we simply attribute a cost of 3 to every operation, either saving/paying out credits as necessary, this works out nicely:\n",
    "       \n",
    "                   Append #:             1   2   3   4   5   6   7   8   9  10  11  12  13  14  15  16  17  18  19  20 ...\n",
    "                   Actual cost:          1   2   3   1   5   1   1   1   9   1   1   1   1   1   1   1  17   1   1   1 ...\n",
    "                   -------------------------------------------------------------------------------------------------------\n",
    "                   Credits saved/paid:  +2  +1   0  +2  -2  +2  +2  +2  -6  +2  +2  +2  +2  +2  +2  +2 -14  +2  +2  +2 ...\n",
    "                   Attributed cost:      3   3   3   3   3   3   3   3   3   3   3   3   3   3   3   3   3   3   3   3 ...\n",
    "                   Credits accumulated:  2   3   3   5   3   5   7   9   3   5   7   9  11  13  15  17   3   5   7   9 ...\n",
    "\n",
    "           - We can also think of the 3 credits paid to append the element at position $i$ as being spent thusly:\n",
    "           \n",
    "               - One credit is paid to copy the element itself into the array\n",
    "               - One credit is paid to move the element to a new array the first time it needs to happen\n",
    "               - One credit is used to pay to move the element at position $i-2^j$ (where $2^j$ is the largest power of 2 less than $i$) to a new array\n",
    "               \n",
    "           We conclude by saying that append is $O(1)$ amortized.\n",
    "                        \n",
    "       - For a more mathematical proof, consider the cost of the $i\\text{th}$ append operation:\n",
    "\n",
    "         $$\n",
    "         c_i = \\begin{cases}\n",
    "            i, & \\text{if } i-1 \\text{ is a power of 2}\\\\\n",
    "            1, & \\text{otherwise}\n",
    "            \\end{cases}\n",
    "         $$\n",
    "         \n",
    "         If we consider the total cost of performing $N$ successive appends, each operation requires at least 1 copy (summing to $N$), and $\\log_2 N$ of the operations perform additional (power of 2) copies to new arrays. It should be clear that:\n",
    "         \n",
    "         $$\\sum_{i=1}^N c_i \\le N + \\sum_{j=0}^{\\lfloor \\log_2 N \\rfloor} 2^j$$\n",
    "         \n",
    "         The righthand sum is a geometric series, which converges like so:\n",
    "         \n",
    "         $$\\sum_{j=0}^{n} r^j = \\frac{1-r^{n+1}}{1-r}$$\n",
    "         \n",
    "         Substituting $2$ for $r$, we find that $\\sum_{j=0}^{\\lfloor \\log_2 N \\rfloor} 2^j = 2N - 1$, which tells us that:\n",
    "         \n",
    "         $$\\sum_{i=1}^N c_i \\le 3N - 1$$\n",
    "         \n",
    "         And so we can conclude that:\n",
    "         \n",
    "         $$\\sum_{i=1}^N c_i = O(N)$$\n",
    "         \n",
    "         This says that appending $N$ elements is $O(N)$, and so appending each individual element is clearly $O(1)$ amortized.\n",
    "         \n",
    "- Insertion: same as append when it comes to copying to a new array (amortized runtime of $O(1)$), but insertion itself requires up to $N$ shifts, and so is $O(N)$.\n"
   ]
  },
  {
   "cell_type": "markdown",
   "metadata": {},
   "source": [
    "### Not doubling?\n",
    "\n",
    "If we chose to expand the array by a constant amount instead of doubling it, would we still have $O(1)$ amortized runtime for append?"
   ]
  },
  {
   "cell_type": "code",
   "execution_count": 18,
   "metadata": {},
   "outputs": [],
   "source": [
    "import numpy as np\n",
    "\n",
    "class ArrayList:\n",
    "    def __init__(self):\n",
    "        self.data = np.empty(1, dtype=object)\n",
    "        self.size = 0\n",
    "\n",
    "\n",
    "    def append(self, value, doubling=True):\n",
    "        if self.size == len(self.data):\n",
    "            if doubling:\n",
    "                ndata = np.empty(len(self.data)*2, dtype=object)\n",
    "            else:\n",
    "                ndata = np.empty(len(self.data)+1000, dtype=object)\n",
    "            for i in range(len(self.data)):\n",
    "                ndata[i] = self.data[i]\n",
    "            self.data = ndata\n",
    "            \n",
    "        self.data[self.size] = value\n",
    "        self.size += 1"
   ]
  },
  {
   "cell_type": "code",
   "execution_count": 19,
   "metadata": {},
   "outputs": [
    {
     "data": {
      "image/png": "[encoded data removed]",
      "text/plain": [
       "<Figure size 432x288 with 1 Axes>"
      ]
     },
     "metadata": {
      "needs_background": "light"
     },
     "output_type": "display_data"
    }
   ],
   "source": [
    "import timeit\n",
    "import matplotlib.pyplot as plt\n",
    "\n",
    "ns = np.linspace(100, 10_000, 50, dtype=int)\n",
    "ts1 = [timeit.timeit(stmt=f'for _ in range({n}): lst.append(None, doubling=True)', \n",
    "                     setup='lst = ArrayList()',\n",
    "                     globals=globals(), \n",
    "                     number=10)\n",
    "       for n in ns]\n",
    "ts2 = [timeit.timeit(stmt=f'for _ in range({n}): lst.append(None, doubling=False)', \n",
    "                     setup='lst = ArrayList()',\n",
    "                     globals=globals(), \n",
    "                     number=10)\n",
    "       for n in ns]\n",
    "\n",
    "plt.plot(ns, ts1, 'ob')\n",
    "plt.plot(ns, ts2, 'or');"
   ]
  },
  {
   "cell_type": "markdown",
   "metadata": {},
   "source": [
    "No! We will not prove it, but expanding the array by a constant amount leads to a total cost of $O(N^2)$ for $N$ appends, which gives a $O(N)$ amortized runtime for append. Definitely not good!"
   ]
  }
 ],
 "metadata": {
  "kernelspec": {
   "display_name": "Python 3",
   "language": "python",
   "name": "python3"
  },
  "language_info": {
   "codemirror_mode": {
    "name": "ipython",
    "version": 3
   },
   "file_extension": ".py",
   "mimetype": "text/x-python",
   "name": "python",
   "nbconvert_exporter": "python",
   "pygments_lexer": "ipython3",
   "version": "3.10.1"
  }
 },
 "nbformat": 4,
 "nbformat_minor": 4
}
