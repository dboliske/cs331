{
 "cells": [
  {
   "cell_type": "markdown",
   "metadata": {
    "state": "normal"
   },
   "source": [
    "# Python data structures demo"
   ]
  },
  {
   "cell_type": "markdown",
   "metadata": {
    "state": "normal"
   },
   "source": [
    "## Text analysis and generation"
   ]
  },
  {
   "cell_type": "code",
   "execution_count": 1,
   "metadata": {
    "state": "normal"
   },
   "outputs": [],
   "source": [
    "import urllib.request\n",
    "\n",
    "md_url = 'https://www.gutenberg.org/files/2701/2701-0.txt'\n",
    "md_text = urllib.request.urlopen(md_url).read().decode()"
   ]
  },
  {
   "cell_type": "code",
   "execution_count": 2,
   "metadata": {
    "state": "normal"
   },
   "outputs": [],
   "source": [
    "idx = md_text.index('Call me Ishmael')"
   ]
  },
  {
   "cell_type": "code",
   "execution_count": 3,
   "metadata": {
    "state": "normal"
   },
   "outputs": [
    {
     "data": {
      "text/plain": [
       "28842"
      ]
     },
     "execution_count": 3,
     "metadata": {},
     "output_type": "execute_result"
    }
   ],
   "source": [
    "idx"
   ]
  },
  {
   "cell_type": "code",
   "execution_count": 4,
   "metadata": {
    "state": "normal"
   },
   "outputs": [
    {
     "data": {
      "text/plain": [
       "'Call me Ishmael. Some years ago—never mind how long precisely—having\\r\\nlittle or no money in my purse'"
      ]
     },
     "execution_count": 4,
     "metadata": {},
     "output_type": "execute_result"
    }
   ],
   "source": [
    "md_text[idx:idx+100]"
   ]
  },
  {
   "cell_type": "code",
   "execution_count": 5,
   "metadata": {
    "state": "normal"
   },
   "outputs": [
    {
     "data": {
      "text/plain": [
       "['Call',\n",
       " 'me',\n",
       " 'Ishmael.',\n",
       " 'Some',\n",
       " 'years',\n",
       " 'ago—never',\n",
       " 'mind',\n",
       " 'how',\n",
       " 'long',\n",
       " 'precisely—having',\n",
       " 'little',\n",
       " 'or',\n",
       " 'no',\n",
       " 'money',\n",
       " 'in',\n",
       " 'my',\n",
       " 'purse']"
      ]
     },
     "execution_count": 5,
     "metadata": {},
     "output_type": "execute_result"
    }
   ],
   "source": [
    "md_text[idx:idx+100].split()"
   ]
  },
  {
   "cell_type": "code",
   "execution_count": 6,
   "metadata": {
    "state": "normal"
   },
   "outputs": [],
   "source": [
    "md_words = md_text.lower().split()"
   ]
  },
  {
   "cell_type": "code",
   "execution_count": 7,
   "metadata": {
    "state": "normal"
   },
   "outputs": [
    {
     "data": {
      "text/plain": [
       "215864"
      ]
     },
     "execution_count": 7,
     "metadata": {},
     "output_type": "execute_result"
    }
   ],
   "source": [
    "len(md_words)"
   ]
  },
  {
   "cell_type": "code",
   "execution_count": 8,
   "metadata": {
    "state": "normal"
   },
   "outputs": [
    {
     "data": {
      "text/plain": [
       "31821"
      ]
     },
     "execution_count": 8,
     "metadata": {},
     "output_type": "execute_result"
    }
   ],
   "source": [
    "md_words_uniq = set(md_words)\n",
    "len(md_words_uniq)"
   ]
  },
  {
   "cell_type": "code",
   "execution_count": 9,
   "metadata": {
    "state": "normal"
   },
   "outputs": [],
   "source": [
    "# compute the frequency of each word in the text\n",
    "md_word_counts = {}\n",
    "for w in md_words:\n",
    "    if w not in md_word_counts:\n",
    "        md_word_counts[w] = 1\n",
    "    else:\n",
    "        md_word_counts[w] += 1"
   ]
  },
  {
   "cell_type": "code",
   "execution_count": 10,
   "metadata": {
    "state": "normal"
   },
   "outputs": [
    {
     "data": {
      "text/plain": [
       "14511"
      ]
     },
     "execution_count": 10,
     "metadata": {},
     "output_type": "execute_result"
    }
   ],
   "source": [
    "md_word_counts['the']"
   ]
  },
  {
   "cell_type": "code",
   "execution_count": 11,
   "metadata": {
    "state": "normal"
   },
   "outputs": [
    {
     "data": {
      "text/plain": [
       "31821"
      ]
     },
     "execution_count": 11,
     "metadata": {},
     "output_type": "execute_result"
    }
   ],
   "source": [
    "len(md_word_counts)"
   ]
  },
  {
   "cell_type": "code",
   "execution_count": 12,
   "metadata": {
    "state": "normal"
   },
   "outputs": [
    {
     "data": {
      "text/plain": [
       "[('\\ufeffthe', 1),\n",
       " ('project', 87),\n",
       " ('gutenberg', 25),\n",
       " ('ebook', 8),\n",
       " ('of', 6683),\n",
       " ('moby-dick;', 5),\n",
       " ('or', 775),\n",
       " ('the', 14511),\n",
       " ('whale,', 212),\n",
       " ('by', 1177)]"
      ]
     },
     "execution_count": 12,
     "metadata": {},
     "output_type": "execute_result"
    }
   ],
   "source": [
    "list(md_word_counts.items())[:10]"
   ]
  },
  {
   "cell_type": "code",
   "execution_count": 13,
   "metadata": {
    "state": "normal"
   },
   "outputs": [],
   "source": [
    "md_word_counts_sorted = sorted(md_word_counts.items())"
   ]
  },
  {
   "cell_type": "code",
   "execution_count": 14,
   "metadata": {
    "state": "normal"
   },
   "outputs": [
    {
     "data": {
      "text/plain": [
       "[('\"defects,\"', 1),\n",
       " ('\"information', 1),\n",
       " ('\"plain', 2),\n",
       " ('\"project', 5),\n",
       " ('\"right', 1),\n",
       " ('#2701]', 1),\n",
       " ('$20,000,000!', 1),\n",
       " ('$5,000)', 1),\n",
       " ('$7,000,000.', 1),\n",
       " ('&', 2)]"
      ]
     },
     "execution_count": 14,
     "metadata": {},
     "output_type": "execute_result"
    }
   ],
   "source": [
    "md_word_counts_sorted[:10]"
   ]
  },
  {
   "cell_type": "code",
   "execution_count": 15,
   "metadata": {
    "state": "normal"
   },
   "outputs": [],
   "source": [
    "import urllib.request\n",
    "\n",
    "sw_url = 'https://moss.cs.iit.edu/stopwords.txt'\n",
    "sw_text = urllib.request.urlopen(sw_url).read().decode()\n",
    "stopwords = sw_text.split()"
   ]
  },
  {
   "cell_type": "code",
   "execution_count": 16,
   "metadata": {},
   "outputs": [
    {
     "data": {
      "text/plain": [
       "['a',\n",
       " 'about',\n",
       " 'above',\n",
       " 'after',\n",
       " 'again',\n",
       " 'against',\n",
       " 'all',\n",
       " 'am',\n",
       " 'an',\n",
       " 'and',\n",
       " 'any',\n",
       " 'are',\n",
       " \"aren't\",\n",
       " 'as',\n",
       " 'at',\n",
       " 'be',\n",
       " 'because',\n",
       " 'been',\n",
       " 'before',\n",
       " 'being']"
      ]
     },
     "execution_count": 16,
     "metadata": {},
     "output_type": "execute_result"
    }
   ],
   "source": [
    "stopwords[:20]"
   ]
  },
  {
   "cell_type": "code",
   "execution_count": 17,
   "metadata": {
    "state": "normal"
   },
   "outputs": [],
   "source": [
    "# remove stopwords\n",
    "\n",
    "md_word_counts = { w: n for w,n in md_word_counts.items() if w not in stopwords }"
   ]
  },
  {
   "cell_type": "code",
   "execution_count": 18,
   "metadata": {
    "state": "normal"
   },
   "outputs": [],
   "source": [
    "md_word_counts_sorted = sorted(md_word_counts.items(), key=lambda t: t[1], reverse=True)"
   ]
  },
  {
   "cell_type": "code",
   "execution_count": 19,
   "metadata": {
    "state": "normal"
   },
   "outputs": [
    {
     "data": {
      "text/plain": [
       "[('one', 782),\n",
       " ('like', 564),\n",
       " ('upon', 558),\n",
       " ('whale', 532),\n",
       " ('now', 501),\n",
       " ('old', 426),\n",
       " ('will', 358),\n",
       " ('though', 311),\n",
       " ('chapter', 296),\n",
       " ('great', 294)]"
      ]
     },
     "execution_count": 19,
     "metadata": {},
     "output_type": "execute_result"
    }
   ],
   "source": [
    "md_word_counts_sorted[:10]"
   ]
  },
  {
   "cell_type": "code",
   "execution_count": 20,
   "metadata": {
    "state": "normal"
   },
   "outputs": [
    {
     "data": {
      "image/png": "[encoded data removed]",
      "text/plain": [
       "<Figure size 864x360 with 1 Axes>"
      ]
     },
     "metadata": {
      "needs_background": "light"
     },
     "output_type": "display_data"
    }
   ],
   "source": [
    "%matplotlib inline\n",
    "import matplotlib.pyplot as plt\n",
    "\n",
    "# need lists of the first n words/counts to plot\n",
    "n = 25\n",
    "words  = [t[0] for t in md_word_counts_sorted[:n]]\n",
    "counts = [t[1] for t in md_word_counts_sorted[:n]]\n",
    "\n",
    "plt.rcParams['figure.figsize'] = [12, 5]\n",
    "plt.bar(range(n), counts)\n",
    "plt.xticks(range(n), words, rotation=60, fontsize=12)\n",
    "plt.show()"
   ]
  },
  {
   "cell_type": "code",
   "execution_count": 21,
   "metadata": {
    "state": "normal"
   },
   "outputs": [],
   "source": [
    "# collect all two-word phrases as tuples\n",
    "phrases = [md_words[i:i+2] for i in range(len(md_words)-1)]"
   ]
  },
  {
   "cell_type": "code",
   "execution_count": 22,
   "metadata": {
    "state": "normal"
   },
   "outputs": [
    {
     "data": {
      "text/plain": [
       "[['\\ufeffthe', 'project'],\n",
       " ['project', 'gutenberg'],\n",
       " ['gutenberg', 'ebook'],\n",
       " ['ebook', 'of'],\n",
       " ['of', 'moby-dick;'],\n",
       " ['moby-dick;', 'or'],\n",
       " ['or', 'the'],\n",
       " ['the', 'whale,'],\n",
       " ['whale,', 'by'],\n",
       " ['by', 'herman']]"
      ]
     },
     "execution_count": 22,
     "metadata": {},
     "output_type": "execute_result"
    }
   ],
   "source": [
    "phrases[:10]"
   ]
  },
  {
   "cell_type": "code",
   "execution_count": 23,
   "metadata": {
    "state": "normal"
   },
   "outputs": [],
   "source": [
    "# map each word to a list of all the words that\n",
    "# follow it in the text\n",
    "phrase_dict = {}\n",
    "for (w1, w2) in phrases:\n",
    "    if w1 not in phrase_dict:\n",
    "        phrase_dict[w1] = [w2]\n",
    "    else:\n",
    "        phrase_dict[w1].append(w2)"
   ]
  },
  {
   "cell_type": "code",
   "execution_count": 24,
   "metadata": {
    "state": "normal"
   },
   "outputs": [
    {
     "data": {
      "text/plain": [
       "['hand',\n",
       " 'hand',\n",
       " 'fluke—look',\n",
       " 'quarter.',\n",
       " 'gunwale',\n",
       " 'bow,',\n",
       " 'side,',\n",
       " 'fin.',\n",
       " 'bow,',\n",
       " 'side,',\n",
       " 'fin.”',\n",
       " 'and',\n",
       " 'bow,']"
      ]
     },
     "execution_count": 24,
     "metadata": {},
     "output_type": "execute_result"
    }
   ],
   "source": [
    "phrase_dict['starboard']"
   ]
  },
  {
   "cell_type": "code",
   "execution_count": 26,
   "metadata": {
    "state": "normal"
   },
   "outputs": [
    {
     "data": {
      "text/plain": [
       "'whale within and down her fast, and between two hundred barrels'"
      ]
     },
     "execution_count": 26,
     "metadata": {},
     "output_type": "execute_result"
    }
   ],
   "source": [
    "# generate a sentence based on two-word phrase statistics\n",
    "# from Moby Dick\n",
    "import random\n",
    "\n",
    "gen_words = ['whale']\n",
    "for _ in range(10):\n",
    "    gen_words.append(random.choice(phrase_dict[gen_words[-1]]))\n",
    "\n",
    "' '.join(gen_words)"
   ]
  },
  {
   "cell_type": "markdown",
   "metadata": {
    "state": "normal"
   },
   "source": [
    "## Solving Sudoku"
   ]
  },
  {
   "cell_type": "code",
   "execution_count": 27,
   "metadata": {
    "state": "normal"
   },
   "outputs": [],
   "source": [
    "puzzle_str = '''..3 .2. 6..\n",
    "                9.. 3.5 ..1\n",
    "                ..1 8.6 4..\n",
    "\n",
    "                ..8 1.2 9..\n",
    "                7.. ... ..8\n",
    "                ..6 7.8 2..\n",
    "\n",
    "                ..2 6.9 5..\n",
    "                8.. 2.3 ..9\n",
    "                ..5 .1. 3..\n",
    "                '''"
   ]
  },
  {
   "cell_type": "code",
   "execution_count": 28,
   "metadata": {
    "state": "normal"
   },
   "outputs": [],
   "source": [
    "# name all the squares in the game\n",
    "rows = 'ABCDEFGHI'\n",
    "cols = '123456789'\n",
    "squares = [r+c for r in rows for c in cols]"
   ]
  },
  {
   "cell_type": "code",
   "execution_count": 29,
   "metadata": {},
   "outputs": [
    {
     "data": {
      "text/plain": [
       "['A1', 'A2', 'A3', 'A4', 'A5', 'A6', 'A7', 'A8', 'A9', 'B1']"
      ]
     },
     "execution_count": 29,
     "metadata": {},
     "output_type": "execute_result"
    }
   ],
   "source": [
    "squares[:10]"
   ]
  },
  {
   "cell_type": "code",
   "execution_count": 30,
   "metadata": {
    "state": "normal"
   },
   "outputs": [],
   "source": [
    "def parse_puzzle(puz_str):\n",
    "    puzzle = [c if c in '123456789' else ''\n",
    "              for c in puz_str if c not in ' \\n']\n",
    "    return {squares[i]: puzzle[i]\n",
    "            for i in range(0, len(squares))}"
   ]
  },
  {
   "cell_type": "code",
   "execution_count": 31,
   "metadata": {
    "state": "normal"
   },
   "outputs": [
    {
     "data": {
      "text/plain": [
       "{'A1': '',\n",
       " 'A2': '',\n",
       " 'A3': '3',\n",
       " 'A4': '',\n",
       " 'A5': '2',\n",
       " 'A6': '',\n",
       " 'A7': '6',\n",
       " 'A8': '',\n",
       " 'A9': '',\n",
       " 'B1': '9',\n",
       " 'B2': '',\n",
       " 'B3': '',\n",
       " 'B4': '3',\n",
       " 'B5': '',\n",
       " 'B6': '5',\n",
       " 'B7': '',\n",
       " 'B8': '',\n",
       " 'B9': '1',\n",
       " 'C1': '',\n",
       " 'C2': '',\n",
       " 'C3': '1',\n",
       " 'C4': '8',\n",
       " 'C5': '',\n",
       " 'C6': '6',\n",
       " 'C7': '4',\n",
       " 'C8': '',\n",
       " 'C9': '',\n",
       " 'D1': '',\n",
       " 'D2': '',\n",
       " 'D3': '8',\n",
       " 'D4': '1',\n",
       " 'D5': '',\n",
       " 'D6': '2',\n",
       " 'D7': '9',\n",
       " 'D8': '',\n",
       " 'D9': '',\n",
       " 'E1': '7',\n",
       " 'E2': '',\n",
       " 'E3': '',\n",
       " 'E4': '',\n",
       " 'E5': '',\n",
       " 'E6': '',\n",
       " 'E7': '',\n",
       " 'E8': '',\n",
       " 'E9': '8',\n",
       " 'F1': '',\n",
       " 'F2': '',\n",
       " 'F3': '6',\n",
       " 'F4': '7',\n",
       " 'F5': '',\n",
       " 'F6': '8',\n",
       " 'F7': '2',\n",
       " 'F8': '',\n",
       " 'F9': '',\n",
       " 'G1': '',\n",
       " 'G2': '',\n",
       " 'G3': '2',\n",
       " 'G4': '6',\n",
       " 'G5': '',\n",
       " 'G6': '9',\n",
       " 'G7': '5',\n",
       " 'G8': '',\n",
       " 'G9': '',\n",
       " 'H1': '8',\n",
       " 'H2': '',\n",
       " 'H3': '',\n",
       " 'H4': '2',\n",
       " 'H5': '',\n",
       " 'H6': '3',\n",
       " 'H7': '',\n",
       " 'H8': '',\n",
       " 'H9': '9',\n",
       " 'I1': '',\n",
       " 'I2': '',\n",
       " 'I3': '5',\n",
       " 'I4': '',\n",
       " 'I5': '1',\n",
       " 'I6': '',\n",
       " 'I7': '3',\n",
       " 'I8': '',\n",
       " 'I9': ''}"
      ]
     },
     "execution_count": 31,
     "metadata": {},
     "output_type": "execute_result"
    }
   ],
   "source": [
    "parse_puzzle(puzzle_str)"
   ]
  },
  {
   "cell_type": "code",
   "execution_count": 32,
   "metadata": {
    "state": "normal"
   },
   "outputs": [],
   "source": [
    "# what squares fall in the same columns? (list of lists)\n",
    "vert_units = [[r+c for r in rows] for c in cols]"
   ]
  },
  {
   "cell_type": "code",
   "execution_count": 33,
   "metadata": {},
   "outputs": [
    {
     "data": {
      "text/plain": [
       "[['A1', 'B1', 'C1', 'D1', 'E1', 'F1', 'G1', 'H1', 'I1'],\n",
       " ['A2', 'B2', 'C2', 'D2', 'E2', 'F2', 'G2', 'H2', 'I2'],\n",
       " ['A3', 'B3', 'C3', 'D3', 'E3', 'F3', 'G3', 'H3', 'I3'],\n",
       " ['A4', 'B4', 'C4', 'D4', 'E4', 'F4', 'G4', 'H4', 'I4'],\n",
       " ['A5', 'B5', 'C5', 'D5', 'E5', 'F5', 'G5', 'H5', 'I5'],\n",
       " ['A6', 'B6', 'C6', 'D6', 'E6', 'F6', 'G6', 'H6', 'I6'],\n",
       " ['A7', 'B7', 'C7', 'D7', 'E7', 'F7', 'G7', 'H7', 'I7'],\n",
       " ['A8', 'B8', 'C8', 'D8', 'E8', 'F8', 'G8', 'H8', 'I8'],\n",
       " ['A9', 'B9', 'C9', 'D9', 'E9', 'F9', 'G9', 'H9', 'I9']]"
      ]
     },
     "execution_count": 33,
     "metadata": {},
     "output_type": "execute_result"
    }
   ],
   "source": [
    "vert_units"
   ]
  },
  {
   "cell_type": "code",
   "execution_count": 34,
   "metadata": {
    "state": "normal"
   },
   "outputs": [],
   "source": [
    "# what squares fall in the same rows? (list of lists)\n",
    "horiz_units = [[r+c for c in cols] for r in rows]"
   ]
  },
  {
   "cell_type": "code",
   "execution_count": 35,
   "metadata": {},
   "outputs": [
    {
     "data": {
      "text/plain": [
       "[['A1', 'A2', 'A3', 'A4', 'A5', 'A6', 'A7', 'A8', 'A9'],\n",
       " ['B1', 'B2', 'B3', 'B4', 'B5', 'B6', 'B7', 'B8', 'B9'],\n",
       " ['C1', 'C2', 'C3', 'C4', 'C5', 'C6', 'C7', 'C8', 'C9'],\n",
       " ['D1', 'D2', 'D3', 'D4', 'D5', 'D6', 'D7', 'D8', 'D9'],\n",
       " ['E1', 'E2', 'E3', 'E4', 'E5', 'E6', 'E7', 'E8', 'E9'],\n",
       " ['F1', 'F2', 'F3', 'F4', 'F5', 'F6', 'F7', 'F8', 'F9'],\n",
       " ['G1', 'G2', 'G3', 'G4', 'G5', 'G6', 'G7', 'G8', 'G9'],\n",
       " ['H1', 'H2', 'H3', 'H4', 'H5', 'H6', 'H7', 'H8', 'H9'],\n",
       " ['I1', 'I2', 'I3', 'I4', 'I5', 'I6', 'I7', 'I8', 'I9']]"
      ]
     },
     "execution_count": 35,
     "metadata": {},
     "output_type": "execute_result"
    }
   ],
   "source": [
    "horiz_units"
   ]
  },
  {
   "cell_type": "code",
   "execution_count": 36,
   "metadata": {
    "state": "normal"
   },
   "outputs": [],
   "source": [
    "# what squares fall in the same \"boxes\"? (list of lists)\n",
    "box_units = [[r+c for r in rows[ri:ri+3] for c in cols[ci:ci+3]] \n",
    "             for ri in range(0, 9, 3)\n",
    "             for ci in range(0, 9, 3)]"
   ]
  },
  {
   "cell_type": "code",
   "execution_count": 37,
   "metadata": {},
   "outputs": [
    {
     "data": {
      "text/plain": [
       "[['A1', 'A2', 'A3', 'B1', 'B2', 'B3', 'C1', 'C2', 'C3'],\n",
       " ['A4', 'A5', 'A6', 'B4', 'B5', 'B6', 'C4', 'C5', 'C6'],\n",
       " ['A7', 'A8', 'A9', 'B7', 'B8', 'B9', 'C7', 'C8', 'C9'],\n",
       " ['D1', 'D2', 'D3', 'E1', 'E2', 'E3', 'F1', 'F2', 'F3'],\n",
       " ['D4', 'D5', 'D6', 'E4', 'E5', 'E6', 'F4', 'F5', 'F6'],\n",
       " ['D7', 'D8', 'D9', 'E7', 'E8', 'E9', 'F7', 'F8', 'F9'],\n",
       " ['G1', 'G2', 'G3', 'H1', 'H2', 'H3', 'I1', 'I2', 'I3'],\n",
       " ['G4', 'G5', 'G6', 'H4', 'H5', 'H6', 'I4', 'I5', 'I6'],\n",
       " ['G7', 'G8', 'G9', 'H7', 'H8', 'H9', 'I7', 'I8', 'I9']]"
      ]
     },
     "execution_count": 37,
     "metadata": {},
     "output_type": "execute_result"
    }
   ],
   "source": [
    "box_units"
   ]
  },
  {
   "cell_type": "code",
   "execution_count": 38,
   "metadata": {
    "state": "normal"
   },
   "outputs": [],
   "source": [
    "all_units = vert_units + horiz_units + box_units"
   ]
  },
  {
   "cell_type": "code",
   "execution_count": 39,
   "metadata": {
    "state": "normal"
   },
   "outputs": [],
   "source": [
    "# associate each square with a list of all the units it belongs to\n",
    "\n",
    "units = {s: [u for u in all_units if s in u] for s in squares}"
   ]
  },
  {
   "cell_type": "code",
   "execution_count": 40,
   "metadata": {
    "state": "normal"
   },
   "outputs": [
    {
     "data": {
      "text/plain": [
       "[['A1', 'B1', 'C1', 'D1', 'E1', 'F1', 'G1', 'H1', 'I1'],\n",
       " ['A1', 'A2', 'A3', 'A4', 'A5', 'A6', 'A7', 'A8', 'A9'],\n",
       " ['A1', 'A2', 'A3', 'B1', 'B2', 'B3', 'C1', 'C2', 'C3']]"
      ]
     },
     "execution_count": 40,
     "metadata": {},
     "output_type": "execute_result"
    }
   ],
   "source": [
    "units['A1']"
   ]
  },
  {
   "cell_type": "code",
   "execution_count": 41,
   "metadata": {
    "state": "normal"
   },
   "outputs": [],
   "source": [
    "# associate each square with the set of all its \"peers\" (i.e., all\n",
    "# other squares that fall into one of its units)\n",
    "\n",
    "peers = {s: ({s1 for u in units[s] for s1 in u} - {s}) \n",
    "         for s in squares}"
   ]
  },
  {
   "cell_type": "code",
   "execution_count": 42,
   "metadata": {
    "state": "normal"
   },
   "outputs": [
    {
     "data": {
      "text/plain": [
       "{'A2',\n",
       " 'A3',\n",
       " 'A4',\n",
       " 'A5',\n",
       " 'A6',\n",
       " 'A7',\n",
       " 'A8',\n",
       " 'A9',\n",
       " 'B1',\n",
       " 'B2',\n",
       " 'B3',\n",
       " 'C1',\n",
       " 'C2',\n",
       " 'C3',\n",
       " 'D1',\n",
       " 'E1',\n",
       " 'F1',\n",
       " 'G1',\n",
       " 'H1',\n",
       " 'I1'}"
      ]
     },
     "execution_count": 42,
     "metadata": {},
     "output_type": "execute_result"
    }
   ],
   "source": [
    "peers['A1']"
   ]
  },
  {
   "cell_type": "code",
   "execution_count": 43,
   "metadata": {
    "state": "normal"
   },
   "outputs": [],
   "source": [
    "# what is a \"catch-all\" solution?\n",
    "sol = {s: '123456789' for s in squares}"
   ]
  },
  {
   "cell_type": "code",
   "execution_count": 44,
   "metadata": {
    "state": "normal"
   },
   "outputs": [
    {
     "data": {
      "text/plain": [
       "{'A1': '123456789',\n",
       " 'A2': '123456789',\n",
       " 'A3': '123456789',\n",
       " 'A4': '123456789',\n",
       " 'A5': '123456789',\n",
       " 'A6': '123456789',\n",
       " 'A7': '123456789',\n",
       " 'A8': '123456789',\n",
       " 'A9': '123456789',\n",
       " 'B1': '123456789',\n",
       " 'B2': '123456789',\n",
       " 'B3': '123456789',\n",
       " 'B4': '123456789',\n",
       " 'B5': '123456789',\n",
       " 'B6': '123456789',\n",
       " 'B7': '123456789',\n",
       " 'B8': '123456789',\n",
       " 'B9': '123456789',\n",
       " 'C1': '123456789',\n",
       " 'C2': '123456789',\n",
       " 'C3': '123456789',\n",
       " 'C4': '123456789',\n",
       " 'C5': '123456789',\n",
       " 'C6': '123456789',\n",
       " 'C7': '123456789',\n",
       " 'C8': '123456789',\n",
       " 'C9': '123456789',\n",
       " 'D1': '123456789',\n",
       " 'D2': '123456789',\n",
       " 'D3': '123456789',\n",
       " 'D4': '123456789',\n",
       " 'D5': '123456789',\n",
       " 'D6': '123456789',\n",
       " 'D7': '123456789',\n",
       " 'D8': '123456789',\n",
       " 'D9': '123456789',\n",
       " 'E1': '123456789',\n",
       " 'E2': '123456789',\n",
       " 'E3': '123456789',\n",
       " 'E4': '123456789',\n",
       " 'E5': '123456789',\n",
       " 'E6': '123456789',\n",
       " 'E7': '123456789',\n",
       " 'E8': '123456789',\n",
       " 'E9': '123456789',\n",
       " 'F1': '123456789',\n",
       " 'F2': '123456789',\n",
       " 'F3': '123456789',\n",
       " 'F4': '123456789',\n",
       " 'F5': '123456789',\n",
       " 'F6': '123456789',\n",
       " 'F7': '123456789',\n",
       " 'F8': '123456789',\n",
       " 'F9': '123456789',\n",
       " 'G1': '123456789',\n",
       " 'G2': '123456789',\n",
       " 'G3': '123456789',\n",
       " 'G4': '123456789',\n",
       " 'G5': '123456789',\n",
       " 'G6': '123456789',\n",
       " 'G7': '123456789',\n",
       " 'G8': '123456789',\n",
       " 'G9': '123456789',\n",
       " 'H1': '123456789',\n",
       " 'H2': '123456789',\n",
       " 'H3': '123456789',\n",
       " 'H4': '123456789',\n",
       " 'H5': '123456789',\n",
       " 'H6': '123456789',\n",
       " 'H7': '123456789',\n",
       " 'H8': '123456789',\n",
       " 'H9': '123456789',\n",
       " 'I1': '123456789',\n",
       " 'I2': '123456789',\n",
       " 'I3': '123456789',\n",
       " 'I4': '123456789',\n",
       " 'I5': '123456789',\n",
       " 'I6': '123456789',\n",
       " 'I7': '123456789',\n",
       " 'I8': '123456789',\n",
       " 'I9': '123456789'}"
      ]
     },
     "execution_count": 44,
     "metadata": {},
     "output_type": "execute_result"
    }
   ],
   "source": [
    "sol"
   ]
  },
  {
   "cell_type": "code",
   "execution_count": 45,
   "metadata": {
    "state": "normal"
   },
   "outputs": [],
   "source": [
    "# solve sudoku via constraint satisfaction, adapted from Norvig (https://norvig.com/sudoku.html)\n",
    "#\n",
    "# constraints:\n",
    "#   - if a square is assigned a (single) value, eliminate that value from its peers\n",
    "#   - if a unit has only one square that can hold a given value, assign the value there\n",
    "\n",
    "def assign(sol, sq, val):\n",
    "    '''If assigning a value to a square, eliminate all other\n",
    "    values from that square in the solution.'''\n",
    "    for other in sol[sq].replace(val, ''):\n",
    "        eliminate(sol, sq, other)\n",
    "\n",
    "def eliminate(sol, sq, val):\n",
    "    '''Eliminate a value from a square. Also check whether\n",
    "    eliminating a value from the given square narrows down \n",
    "    that value to only one affected square; if so, assign \n",
    "    the value to that square.'''\n",
    "    if val not in sol[sq]:\n",
    "        return\n",
    "    sol[sq] = sol[sq].replace(val, '')\n",
    "    if len(sol[sq]) == 1:\n",
    "        last = sol[sq][0]\n",
    "        for p in peers[sq]:\n",
    "            eliminate(sol, p, last)\n",
    "    for u in units[sq]:\n",
    "        candidates = [s for s in u if val in sol[s]]\n",
    "        if len(candidates) == 1:\n",
    "            assign(sol, candidates[0], val)"
   ]
  },
  {
   "cell_type": "code",
   "execution_count": 46,
   "metadata": {
    "state": "normal"
   },
   "outputs": [],
   "source": [
    "def solve_puzzle(puzz_str):\n",
    "    puz = parse_puzzle(puzz_str)\n",
    "    sol = {s: '123456789' for s in squares}\n",
    "\n",
    "    for sq, val in puz.items():\n",
    "        if val:\n",
    "            assign(sol, sq, val)\n",
    "    return sol"
   ]
  },
  {
   "cell_type": "code",
   "execution_count": 47,
   "metadata": {
    "state": "normal"
   },
   "outputs": [
    {
     "data": {
      "text/plain": [
       "{'A1': '4',\n",
       " 'A2': '8',\n",
       " 'A3': '3',\n",
       " 'A4': '9',\n",
       " 'A5': '2',\n",
       " 'A6': '1',\n",
       " 'A7': '6',\n",
       " 'A8': '5',\n",
       " 'A9': '7',\n",
       " 'B1': '9',\n",
       " 'B2': '6',\n",
       " 'B3': '7',\n",
       " 'B4': '3',\n",
       " 'B5': '4',\n",
       " 'B6': '5',\n",
       " 'B7': '8',\n",
       " 'B8': '2',\n",
       " 'B9': '1',\n",
       " 'C1': '2',\n",
       " 'C2': '5',\n",
       " 'C3': '1',\n",
       " 'C4': '8',\n",
       " 'C5': '7',\n",
       " 'C6': '6',\n",
       " 'C7': '4',\n",
       " 'C8': '9',\n",
       " 'C9': '3',\n",
       " 'D1': '5',\n",
       " 'D2': '4',\n",
       " 'D3': '8',\n",
       " 'D4': '1',\n",
       " 'D5': '3',\n",
       " 'D6': '2',\n",
       " 'D7': '9',\n",
       " 'D8': '7',\n",
       " 'D9': '6',\n",
       " 'E1': '7',\n",
       " 'E2': '2',\n",
       " 'E3': '9',\n",
       " 'E4': '5',\n",
       " 'E5': '6',\n",
       " 'E6': '4',\n",
       " 'E7': '1',\n",
       " 'E8': '3',\n",
       " 'E9': '8',\n",
       " 'F1': '1',\n",
       " 'F2': '3',\n",
       " 'F3': '6',\n",
       " 'F4': '7',\n",
       " 'F5': '9',\n",
       " 'F6': '8',\n",
       " 'F7': '2',\n",
       " 'F8': '4',\n",
       " 'F9': '5',\n",
       " 'G1': '3',\n",
       " 'G2': '7',\n",
       " 'G3': '2',\n",
       " 'G4': '6',\n",
       " 'G5': '8',\n",
       " 'G6': '9',\n",
       " 'G7': '5',\n",
       " 'G8': '1',\n",
       " 'G9': '4',\n",
       " 'H1': '8',\n",
       " 'H2': '1',\n",
       " 'H3': '4',\n",
       " 'H4': '2',\n",
       " 'H5': '5',\n",
       " 'H6': '3',\n",
       " 'H7': '7',\n",
       " 'H8': '6',\n",
       " 'H9': '9',\n",
       " 'I1': '6',\n",
       " 'I2': '9',\n",
       " 'I3': '5',\n",
       " 'I4': '4',\n",
       " 'I5': '1',\n",
       " 'I6': '7',\n",
       " 'I7': '3',\n",
       " 'I8': '8',\n",
       " 'I9': '2'}"
      ]
     },
     "execution_count": 47,
     "metadata": {},
     "output_type": "execute_result"
    }
   ],
   "source": [
    "solve_puzzle(puzzle_str)"
   ]
  },
  {
   "cell_type": "code",
   "execution_count": 48,
   "metadata": {
    "state": "normal"
   },
   "outputs": [],
   "source": [
    "def print_puzzle(puzz):\n",
    "    for r in range(9):\n",
    "        for c in range(9):\n",
    "            print(f'{puzz[rows[r]+cols[c]]:^5}', end=' ')\n",
    "            if c == 2 or c == 5:\n",
    "                print('|', end=' ')\n",
    "        print()\n",
    "        if r == 2 or r == 5:\n",
    "            print('-'*57)"
   ]
  },
  {
   "cell_type": "code",
   "execution_count": 49,
   "metadata": {},
   "outputs": [
    {
     "name": "stdout",
     "output_type": "stream",
     "text": [
      "              3   |         2         |   6               \n",
      "  9               |   3           5   |               1   \n",
      "              1   |   8           6   |   4               \n",
      "---------------------------------------------------------\n",
      "              8   |   1           2   |   9               \n",
      "  7               |                   |               8   \n",
      "              6   |   7           8   |   2               \n",
      "---------------------------------------------------------\n",
      "              2   |   6           9   |   5               \n",
      "  8               |   2           3   |               9   \n",
      "              5   |         1         |   3               \n"
     ]
    }
   ],
   "source": [
    "print_puzzle(parse_puzzle(puzzle_str))"
   ]
  },
  {
   "cell_type": "code",
   "execution_count": 50,
   "metadata": {
    "state": "normal"
   },
   "outputs": [
    {
     "name": "stdout",
     "output_type": "stream",
     "text": [
      "  4     8     3   |   9     2     1   |   6     5     7   \n",
      "  9     6     7   |   3     4     5   |   8     2     1   \n",
      "  2     5     1   |   8     7     6   |   4     9     3   \n",
      "---------------------------------------------------------\n",
      "  5     4     8   |   1     3     2   |   9     7     6   \n",
      "  7     2     9   |   5     6     4   |   1     3     8   \n",
      "  1     3     6   |   7     9     8   |   2     4     5   \n",
      "---------------------------------------------------------\n",
      "  3     7     2   |   6     8     9   |   5     1     4   \n",
      "  8     1     4   |   2     5     3   |   7     6     9   \n",
      "  6     9     5   |   4     1     7   |   3     8     2   \n"
     ]
    }
   ],
   "source": [
    "print_puzzle(solve_puzzle(puzzle_str))"
   ]
  },
  {
   "cell_type": "code",
   "execution_count": 51,
   "metadata": {
    "state": "normal"
   },
   "outputs": [
    {
     "name": "stdout",
     "output_type": "stream",
     "text": [
      "  4     5     1   |   8     9     7   |   3     2     6   \n",
      "  7     3     2   |  56    56     1   |   9     4     8   \n",
      "  8     6     9   |   3     4     2   |   7     1     5   \n",
      "---------------------------------------------------------\n",
      "1269   29     4   |  126    7     5   |  126    8     3   \n",
      "  3     7    56   |  126    8     4   | 1256   56     9   \n",
      "1256    8    56   |   9    126    3   |   4     7    12   \n",
      "---------------------------------------------------------\n",
      " 256    4     3   |   7    125    9   |   8    56    12   \n",
      " 25     1     8   |   4     3     6   |  25     9     7   \n",
      "2569   29     7   |  125   125    8   | 1256    3     4   \n"
     ]
    }
   ],
   "source": [
    "# NYTimes \"Medium\" puzzle\n",
    "print_puzzle(solve_puzzle('''\n",
    ".51 8.. 3.6\n",
    ".3. ... ...\n",
    "..9 .42 .15\n",
    "\n",
    "..4 .75 ...\n",
    "3.. ... ...\n",
    ".8. 9.. ...\n",
    "\n",
    "... ... 8..\n",
    ".1. ..6 .9.\n",
    "..7 ... ..4\n",
    "'''))"
   ]
  },
  {
   "cell_type": "markdown",
   "metadata": {},
   "source": [
    "## California Housing Data"
   ]
  },
  {
   "cell_type": "code",
   "execution_count": 52,
   "metadata": {},
   "outputs": [
    {
     "name": "stdout",
     "output_type": "stream",
     "text": [
      "\"longitude\",\"latitude\",\"housing_median_age\",\"total_rooms\",\"total_bedrooms\",\"population\",\"households\",\"median_income\",\"median_house_value\"\n",
      "\n"
     ]
    }
   ],
   "source": [
    "csv_file = 'sample_data/california_housing_train.csv'\n",
    "with open(csv_file) as infile:\n",
    "    print(infile.readline())"
   ]
  },
  {
   "cell_type": "code",
   "execution_count": 53,
   "metadata": {},
   "outputs": [],
   "source": [
    "# load CSV file contents into a dictionary\n",
    "housing_data = {}\n",
    "\n",
    "with open(csv_file) as infile:\n",
    "    cols = infile.readline().split(',')\n",
    "    for col in cols:\n",
    "        housing_data[col] = []\n",
    "    for line in infile:\n",
    "        data = line.split(',')\n",
    "        for i in range(len(cols)):\n",
    "            housing_data[cols[i]].append(float(data[i]))"
   ]
  },
  {
   "cell_type": "code",
   "execution_count": 54,
   "metadata": {},
   "outputs": [
    {
     "data": {
      "text/plain": [
       "[1015.0, 1129.0, 333.0, 515.0, 624.0, 671.0, 1841.0, 375.0, 3134.0, 787.0]"
      ]
     },
     "execution_count": 54,
     "metadata": {},
     "output_type": "execute_result"
    }
   ],
   "source": [
    "housing_data['\"population\"'][:10]"
   ]
  },
  {
   "cell_type": "code",
   "execution_count": 55,
   "metadata": {},
   "outputs": [
    {
     "data": {
      "text/plain": [
       "1429.5739411764705"
      ]
     },
     "execution_count": 55,
     "metadata": {},
     "output_type": "execute_result"
    }
   ],
   "source": [
    "sum(housing_data['\"population\"']) / len(housing_data['\"population\"'])"
   ]
  },
  {
   "cell_type": "markdown",
   "metadata": {},
   "source": [
    "### Specialized data structure: Pandas DataFrame"
   ]
  },
  {
   "cell_type": "code",
   "execution_count": 56,
   "metadata": {},
   "outputs": [],
   "source": [
    "import pandas\n",
    "\n",
    "df = pandas.read_csv('sample_data/california_housing_train.csv')"
   ]
  },
  {
   "cell_type": "code",
   "execution_count": 57,
   "metadata": {},
   "outputs": [
    {
     "data": {
      "text/plain": [
       "0    1015.0\n",
       "1    1129.0\n",
       "2     333.0\n",
       "3     515.0\n",
       "4     624.0\n",
       "5     671.0\n",
       "6    1841.0\n",
       "7     375.0\n",
       "8    3134.0\n",
       "9     787.0\n",
       "Name: population, dtype: float64"
      ]
     },
     "execution_count": 57,
     "metadata": {},
     "output_type": "execute_result"
    }
   ],
   "source": [
    "df['population'][:10]"
   ]
  },
  {
   "cell_type": "code",
   "execution_count": 58,
   "metadata": {},
   "outputs": [
    {
     "data": {
      "text/plain": [
       "1429.5739411764705"
      ]
     },
     "execution_count": 58,
     "metadata": {},
     "output_type": "execute_result"
    }
   ],
   "source": [
    "df['population'].mean()"
   ]
  }
 ],
 "metadata": {
  "kernelspec": {
   "display_name": "Python 3",
   "language": "python",
   "name": "python3"
  },
  "language_info": {
   "codemirror_mode": {
    "name": "ipython",
    "version": 3
   },
   "file_extension": ".py",
   "mimetype": "text/x-python",
   "name": "python",
   "nbconvert_exporter": "python",
   "pygments_lexer": "ipython3",
   "version": "3.10.1"
  },
  "mimir": {
   "data": {},
   "last_submission_id": "",
   "project_id": "cd4ec141-8c35-4635-877c-c12fc50054c9"
  },
  "varInspector": {
   "cols": {
    "lenName": 16,
    "lenType": 16,
    "lenVar": 40
   },
   "kernels_config": {
    "python": {
     "delete_cmd_postfix": "",
     "delete_cmd_prefix": "del ",
     "library": "var_list.py",
     "varRefreshCmd": "print(var_dic_list())"
    },
    "r": {
     "delete_cmd_postfix": ") ",
     "delete_cmd_prefix": "rm(",
     "library": "var_list.r",
     "varRefreshCmd": "cat(var_dic_list()) "
    }
   },
   "types_to_exclude": [
    "module",
    "function",
    "builtin_function_or_method",
    "instance",
    "_Feature"
   ],
   "window_display": false
  }
 },
 "nbformat": 4,
 "nbformat_minor": 4
}
